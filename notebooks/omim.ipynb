{
 "metadata": {
  "name": "",
  "signature": "sha256:4ce6820922f87d34348605d84bf3c7f944c674415f742ee54fb69a46ab106f29"
 },
 "nbformat": 3,
 "nbformat_minor": 0,
 "worksheets": [
  {
   "cells": [
    {
     "cell_type": "code",
     "collapsed": false,
     "input": [
      "%matplotlib inline\n",
      "import pandas as pd\n",
      "import re"
     ],
     "language": "python",
     "metadata": {},
     "outputs": [],
     "prompt_number": 28
    },
    {
     "cell_type": "markdown",
     "metadata": {},
     "source": [
      "# load omim y clinvar. "
     ]
    },
    {
     "cell_type": "code",
     "collapsed": false,
     "input": [
      "#clinvar omim descargada directo de la web con filtro omim. \n",
      "clinvar_omim = pd.read_csv('/home/vpt/data/clinvar/clinvar_omim_download20190718.txt',sep = '\\t')\n",
      "genmap2 = pd.read_csv('/home/vpt/data/omim/20190718/genemap2.txt',sep ='\\t',skiprows=3)\n",
      "opath = '/home/vpt/data/clinvar/clinvar_omim_by_GEN/'\n",
      "genmap2.shape"
     ],
     "language": "python",
     "metadata": {},
     "outputs": [
      {
       "metadata": {},
       "output_type": "pyout",
       "prompt_number": 103,
       "text": [
        "(16992, 14)"
       ]
      }
     ],
     "prompt_number": 103
    },
    {
     "cell_type": "markdown",
     "metadata": {},
     "source": [
      "# exploro omim"
     ]
    },
    {
     "cell_type": "code",
     "collapsed": false,
     "input": [
      "genmap2.columns"
     ],
     "language": "python",
     "metadata": {},
     "outputs": [
      {
       "metadata": {},
       "output_type": "pyout",
       "prompt_number": 5,
       "text": [
        "Index([u'# Chromosome', u'Genomic Position Start', u'Genomic Position End',\n",
        "       u'Cyto Location', u'Computed Cyto Location', u'Mim Number',\n",
        "       u'Gene Symbols', u'Gene Name', u'Approved Symbol', u'Entrez Gene ID',\n",
        "       u'Ensembl Gene ID', u'Comments', u'Phenotypes',\n",
        "       u'Mouse Gene Symbol/ID'],\n",
        "      dtype='object')"
       ]
      }
     ],
     "prompt_number": 5
    },
    {
     "cell_type": "code",
     "collapsed": false,
     "input": [
      "# muchos aliases un unico entrez id.\n",
      "genmap2[['Gene Symbols','Entrez Gene ID']].head(20).tail(5)"
     ],
     "language": "python",
     "metadata": {},
     "outputs": [
      {
       "html": [
        "<div style=\"max-width:1500px;overflow:auto;\">\n",
        "<style scoped>\n",
        "    .dataframe tbody tr th:only-of-type {\n",
        "        vertical-align: middle;\n",
        "    }\n",
        "\n",
        "    .dataframe tbody tr th {\n",
        "        vertical-align: top;\n",
        "    }\n",
        "\n",
        "    .dataframe thead th {\n",
        "        text-align: right;\n",
        "    }\n",
        "</style>\n",
        "<table border=\"1\" class=\"dataframe\">\n",
        "  <thead>\n",
        "    <tr style=\"text-align: right;\">\n",
        "      <th></th>\n",
        "      <th>Gene Symbols</th>\n",
        "      <th>Entrez Gene ID</th>\n",
        "    </tr>\n",
        "  </thead>\n",
        "  <tbody>\n",
        "    <tr>\n",
        "      <th>15</th>\n",
        "      <td>SAI1, MTS1, TFS1</td>\n",
        "      <td>6298.0</td>\n",
        "    </tr>\n",
        "    <tr>\n",
        "      <th>16</th>\n",
        "      <td>ZBTB40IT1</td>\n",
        "      <td>100874345.0</td>\n",
        "    </tr>\n",
        "    <tr>\n",
        "      <th>17</th>\n",
        "      <td>SAMD11, MRS</td>\n",
        "      <td>148398.0</td>\n",
        "    </tr>\n",
        "    <tr>\n",
        "      <th>18</th>\n",
        "      <td>NOC2L, NIR</td>\n",
        "      <td>26155.0</td>\n",
        "    </tr>\n",
        "    <tr>\n",
        "      <th>19</th>\n",
        "      <td>PERM1, C1orf170</td>\n",
        "      <td>84808.0</td>\n",
        "    </tr>\n",
        "  </tbody>\n",
        "</table>\n",
        "</div>"
       ],
       "metadata": {},
       "output_type": "pyout",
       "prompt_number": 106,
       "text": [
        "        Gene Symbols  Entrez Gene ID\n",
        "15  SAI1, MTS1, TFS1          6298.0\n",
        "16         ZBTB40IT1     100874345.0\n",
        "17       SAMD11, MRS        148398.0\n",
        "18        NOC2L, NIR         26155.0\n",
        "19   PERM1, C1orf170         84808.0"
       ]
      }
     ],
     "prompt_number": 106
    },
    {
     "cell_type": "code",
     "collapsed": false,
     "input": [
      "## 350 NaNs\n",
      "# 14 genes que aparecen en 2 lineas\n",
      "# 2 genes que aparecen 3 veces\n",
      "# casi todo el resto, 16608 genes aparecen en un solo registro. \n",
      "genmap2['Entrez Gene ID'].value_counts(dropna=False).value_counts()"
     ],
     "language": "python",
     "metadata": {},
     "outputs": [
      {
       "metadata": {},
       "output_type": "pyout",
       "prompt_number": 77,
       "text": [
        "1      16608\n",
        "2         14\n",
        "3          2\n",
        "350        1\n",
        "Name: Entrez Gene ID, dtype: int64"
       ]
      }
     ],
     "prompt_number": 77
    },
    {
     "cell_type": "markdown",
     "metadata": {},
     "source": [
      "# phenotypes se lleva casi toda la torta de la condicion de herencia\n",
      "## Hay 4010 lineas que tienen la palabra autosomal (case insensitive) y recupero 3992 con la columna Phenotypes. Por ahora exploro asi"
     ]
    },
    {
     "cell_type": "code",
     "collapsed": false,
     "input": [
      "genmap2.apply(lambda x: x.map(str).str.contains('autosomal',flags=re.IGNORECASE, regex=True)).sum()\n"
     ],
     "language": "python",
     "metadata": {},
     "outputs": [
      {
       "metadata": {},
       "output_type": "pyout",
       "prompt_number": 35,
       "text": [
        "# Chromosome                 0\n",
        "Genomic Position Start       0\n",
        "Genomic Position End         0\n",
        "Cyto Location                0\n",
        "Computed Cyto Location       0\n",
        "Mim Number                   0\n",
        "Gene Symbols                 0\n",
        "Gene Name                   90\n",
        "Approved Symbol              0\n",
        "Entrez Gene ID               0\n",
        "Ensembl Gene ID              0\n",
        "Comments                    14\n",
        "Phenotypes                3992\n",
        "Mouse Gene Symbol/ID         0\n",
        "dtype: int64"
       ]
      }
     ],
     "prompt_number": 35
    },
    {
     "cell_type": "markdown",
     "metadata": {},
     "source": [
      "# Extraigo los genes de omim que estan asociados exclusivamente a patologias dominantes o recesivas"
     ]
    },
    {
     "cell_type": "markdown",
     "metadata": {},
     "source": [
      "### Separo en recessivas, dominantes y genes los que tienen ambas herencias"
     ]
    },
    {
     "cell_type": "code",
     "collapsed": false,
     "input": [
      "autosomal = genmap2[genmap2.Phenotypes.str.contains('autosomal',flags=re.IGNORECASE, regex=True).fillna(False)]\n",
      "rececssive_flag = genmap2.Phenotypes.str.contains('autosomal recessive',flags=re.IGNORECASE, regex=True).fillna(False)\n",
      "dominant_flag = genmap2.Phenotypes.str.contains('autosomal dominant',flags=re.IGNORECASE, regex=True).fillna(False)\n",
      "recessive = genmap2[(rececssive_flag)&(~dominant_flag)]\n",
      "dominant = genmap2[~(rececssive_flag)&(dominant_flag)]\n",
      "both_models = genmap2[(rececssive_flag)&(dominant_flag)]\n"
     ],
     "language": "python",
     "metadata": {},
     "outputs": [],
     "prompt_number": 58
    },
    {
     "cell_type": "code",
     "collapsed": false,
     "input": [
      "# la suma de dominant, recessive y both da 3989. Osea hay 3 filas que pierdo. Pueden ser otro tipo de autosomal o no tener bien descripto si es una u otra\n",
      "print recessive.shape\n",
      "print dominant.shape\n",
      "print both_models.shape\n",
      "print autosomal.shape"
     ],
     "language": "python",
     "metadata": {},
     "outputs": [
      {
       "output_type": "stream",
       "stream": "stdout",
       "text": [
        "(2060, 14)\n",
        "(1474, 14)\n",
        "(455, 14)\n",
        "(3992, 14)\n"
       ]
      }
     ],
     "prompt_number": 59
    },
    {
     "cell_type": "code",
     "collapsed": false,
     "input": [
      "## De los recesivos, pierdo 10 genes, de los dominantes pierdo 92 (todos por Nan en la columna de entrez id)"
     ],
     "language": "python",
     "metadata": {},
     "outputs": [],
     "prompt_number": 70
    },
    {
     "cell_type": "code",
     "collapsed": false,
     "input": [
      "print 'recessive'\n",
      "print recessive['Entrez Gene ID'].value_counts(dropna = False).value_counts()\n",
      "\n",
      "print ''\n",
      "\n",
      "\n",
      "print 'dominant'\n",
      "print dominant['Entrez Gene ID'].value_counts(dropna = False).value_counts()\n",
      "\n",
      "print ''\n",
      "\n",
      "print 'both models'\n",
      "print both_models['Entrez Gene ID'].value_counts(dropna = False).value_counts()\n",
      "\n"
     ],
     "language": "python",
     "metadata": {},
     "outputs": [
      {
       "output_type": "stream",
       "stream": "stdout",
       "text": [
        "recessive\n",
        "1     2050\n",
        "10       1\n",
        "Name: Entrez Gene ID, dtype: int64\n",
        "\n",
        "dominant\n",
        "1     1382\n",
        "92       1\n",
        "Name: Entrez Gene ID, dtype: int64\n",
        "\n",
        "both models\n",
        "1    455\n",
        "Name: Entrez Gene ID, dtype: int64\n"
       ]
      }
     ],
     "prompt_number": 110
    },
    {
     "cell_type": "markdown",
     "metadata": {},
     "source": [
      "### Genes exclusivamente recessivos o dominantes (con redundancia de nombre para evitar mismaches por aliases):"
     ]
    },
    {
     "cell_type": "code",
     "collapsed": false,
     "input": [
      "recessive_genes = recessive[u'Gene Symbols'].str.split(',',expand = True).values.ravel()\n",
      "dominant_genes = dominant[u'Gene Symbols'].str.split(',',expand = True).values.ravel()\n",
      "ADAR_genes = both_models[u'Gene Symbols'].str.split(',',expand = True).values.ravel()"
     ],
     "language": "python",
     "metadata": {},
     "outputs": [],
     "prompt_number": 111
    },
    {
     "cell_type": "markdown",
     "metadata": {},
     "source": [
      "# ---------------------------------------------------------------------------------------------- #"
     ]
    },
    {
     "cell_type": "markdown",
     "metadata": {},
     "source": [
      "# Cruze con Clinvar"
     ]
    },
    {
     "cell_type": "code",
     "collapsed": false,
     "input": [
      "clinvar_omim.columns"
     ],
     "language": "python",
     "metadata": {},
     "outputs": [
      {
       "metadata": {},
       "output_type": "pyout",
       "prompt_number": 114,
       "text": [
        "Index([u'Name', u'Gene(s)', u'Condition(s)',\n",
        "       u'Clinical significance (Last reviewed)', u'Review status',\n",
        "       u'GRCh37Chromosome', u'GRCh37Location', u'GRCh38Chromosome',\n",
        "       u'GRCh38Location', u'VariationID', u'AlleleID(s)', u'Unnamed: 11'],\n",
        "      dtype='object')"
       ]
      }
     ],
     "prompt_number": 114
    },
    {
     "cell_type": "code",
     "collapsed": false,
     "input": [
      "clinvar_omim['clinsig'] = clinvar_omim[u'Clinical significance (Last reviewed)'].str.split('(',expand = True)[0]\n",
      "\n",
      "clinvar_omim_AR_byGene = clinvar_omim[clinvar_omim[ u'Gene(s)'].isin(recessive_genes)]\n",
      "clinvar_omim_AD_byGene = clinvar_omim[clinvar_omim[ u'Gene(s)'].isin(dominant_genes)]\n",
      "clinvar_omim_BothModels_byGene = clinvar_omim[clinvar_omim[ u'Gene(s)'].isin(ADAR_genes)]\n"
     ],
     "language": "python",
     "metadata": {},
     "outputs": [],
     "prompt_number": 134
    },
    {
     "cell_type": "code",
     "collapsed": false,
     "input": [
      "clinvar_omim_AR_byGene.to_csv(opath+'AR-clinvarOMIM.tsv',sep='\\t',index = False)\n",
      "clinvar_omim_AD_byGene.to_csv(opath+'AD-clinvarOMIM.tsv',sep='\\t',index = False)\n",
      "clinvar_omim_BothModels_byGene.to_csv(opath+'ADAR-clinvarOMIM.tsv',sep='\\t',index = False)"
     ],
     "language": "python",
     "metadata": {},
     "outputs": [],
     "prompt_number": 139
    },
    {
     "cell_type": "markdown",
     "metadata": {},
     "source": [
      "# TENEMOS....  \n",
      "## ~69.8K variantes recesivas; (22k pathog - likely pathog)\n",
      "## 76.0K variantes dominantes (casi 19K pathog - likely pathog);\n",
      "\n",
      "## 49.7K variantes cuyo modelo de herencia depende de la patologia (casi 16K Pathog - likely pathog). "
     ]
    },
    {
     "cell_type": "code",
     "collapsed": false,
     "input": [
      "print clinvar_omim_AR_byGene.shape\n",
      "print clinvar_omim_AD_byGene.shape\n",
      "clinvar_omim_BothModels_byGene.shape"
     ],
     "language": "python",
     "metadata": {},
     "outputs": [
      {
       "output_type": "stream",
       "stream": "stdout",
       "text": [
        "(69809, 13)\n",
        "(76068, 13)\n"
       ]
      },
      {
       "metadata": {},
       "output_type": "pyout",
       "prompt_number": 135,
       "text": [
        "(49777, 13)"
       ]
      }
     ],
     "prompt_number": 135
    },
    {
     "cell_type": "code",
     "collapsed": false,
     "input": [
      "clinvar_omim_BothModels_byGene.clinsig.value_counts(dropna=False)"
     ],
     "language": "python",
     "metadata": {},
     "outputs": [
      {
       "metadata": {},
       "output_type": "pyout",
       "prompt_number": 138,
       "text": [
        "Uncertain significance                                                           17668\n",
        "Pathogenic                                                                       12856\n",
        "Likely benign                                                                     6305\n",
        "Conflicting interpretations of pathogenicity                                      3930\n",
        "Benign                                                                            2847\n",
        "Likely pathogenic                                                                 2374\n",
        "Benign/Likely benign                                                              2015\n",
        "Pathogenic/Likely pathogenic                                                       776\n",
        "not provided                                                                       749\n",
        "risk factor                                                                         94\n",
        "drug response                                                                       43\n",
        "Conflicting interpretations of pathogenicity, risk factor                           15\n",
        "association                                                                         13\n",
        "Pathogenic, risk factor                                                             11\n",
        "Affects                                                                             10\n",
        "protective                                                                           9\n",
        "other                                                                                8\n",
        "Pathogenic, drug response                                                            7\n",
        "Benign/Likely benign, risk factor                                                    6\n",
        "Pathogenic, Affects                                                                  6\n",
        "Pathogenic/Likely pathogenic, drug response                                          5\n",
        "Pathogenic/Likely pathogenic, risk factor                                            4\n",
        "Benign/Likely benign, protective                                                     3\n",
        "Pathogenic, other                                                                    3\n",
        "protective, risk factor                                                              2\n",
        "Conflicting interpretations of pathogenicity, other, risk factor                     2\n",
        "Conflicting interpretations of pathogenicity, association, other, risk factor        2\n",
        "Benign, risk factor                                                                  2\n",
        "Uncertain significance, association                                                  1\n",
        "association, risk factor                                                             1\n",
        "drug response, risk factor                                                           1\n",
        "Likely pathogenic, drug response                                                     1\n",
        "Pathogenic, association, protective                                                  1\n",
        "Conflicting interpretations of pathogenicity, other                                  1\n",
        "Pathogenic, protective                                                               1\n",
        "Pathogenic/Likely pathogenic, other                                                  1\n",
        "Benign/Likely benign, other                                                          1\n",
        "Conflicting interpretations of pathogenicity, association                            1\n",
        "Uncertain significance, risk factor                                                  1\n",
        "Likely benign, other, risk factor                                                    1\n",
        "Name: clinsig, dtype: int64"
       ]
      }
     ],
     "prompt_number": 138
    },
    {
     "cell_type": "code",
     "collapsed": false,
     "input": [],
     "language": "python",
     "metadata": {},
     "outputs": []
    }
   ],
   "metadata": {}
  }
 ]
}