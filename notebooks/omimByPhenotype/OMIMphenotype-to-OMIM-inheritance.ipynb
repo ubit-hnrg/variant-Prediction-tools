{
 "cells": [
  {
   "cell_type": "code",
   "execution_count": 1,
   "metadata": {},
   "outputs": [],
   "source": [
    "import pandas as pd\n",
    "import re"
   ]
  },
  {
   "cell_type": "code",
   "execution_count": 2,
   "metadata": {},
   "outputs": [],
   "source": [
    "genmap2 = pd.read_csv('/home/vpt/data/omim/20190718/genemap2.txt',sep ='\\t',skiprows=3,dtype={'Entrez Gene ID':str,'Mim Number':str})\n",
    "genmap2['Mim Number'] = 'OMIM:'+genmap2['Mim Number']\n",
    "genmap2.index = genmap2['Entrez Gene ID']\n",
    "genmap2 = genmap2[~genmap2.index.isnull()]\n",
    "genmap2 = genmap2[~genmap2.Phenotypes.isnull()]   # quito genes sin phenotype omim\n",
    "autosomal = genmap2[genmap2.Phenotypes.str.contains('autosomal',flags=re.IGNORECASE, regex=True).fillna(False)]\n"
   ]
  },
  {
   "cell_type": "markdown",
   "metadata": {},
   "source": [
    "# get phenotype ids form Phenotypes field"
   ]
  },
  {
   "cell_type": "code",
   "execution_count": 3,
   "metadata": {},
   "outputs": [],
   "source": [
    "expanded = autosomal.Phenotypes.str.split(';',expand = True)\n",
    "\n",
    "phenoid = []\n",
    "for g in expanded.index:\n",
    "    df =expanded.loc[g,:].str.extract('([0-9]{6})')\n",
    "    df.columns = [g]\n",
    "    phenoid.append(df)\n",
    "pheno_id = pd.concat(phenoid,1).transpose()\n",
    "\n",
    "# este enfoque mas simple y rapido falló  porque algunos fenotipos estan sin ID, \n",
    "# generan nulls y descoordinan el match con el parseo de AR/AD/ADAR \n",
    "\n",
    "#pheno_id = expanded.apply(lambda x: x.str.extractall('([0-9]{6})')[0].values,axis = 1)  \n",
    "#pheno_id = expanded.apply(lambda x: x.str.extract('([0-9]{6})')[0].values,axis = 1)\n",
    "\n",
    "\n"
   ]
  },
  {
   "cell_type": "code",
   "execution_count": 4,
   "metadata": {},
   "outputs": [
    {
     "name": "stderr",
     "output_type": "stream",
     "text": [
      "/home/vpt/venvs/py3/lib/python3.5/site-packages/ipykernel_launcher.py:1: UserWarning: This pattern has match groups. To actually get the groups, use str.extract.\n",
      "  \"\"\"Entry point for launching an IPython kernel.\n",
      "/home/vpt/venvs/py3/lib/python3.5/site-packages/ipykernel_launcher.py:2: UserWarning: This pattern has match groups. To actually get the groups, use str.extract.\n",
      "  \n"
     ]
    }
   ],
   "source": [
    "inhAD = expanded.apply(lambda x: x.str.contains(pat = '(Autosomal dominant)',flags = re.IGNORECASE))#[0].values,axis = 1)\n",
    "inhAR = expanded.apply(lambda x: x.str.contains(pat = '(Autosomal recessive)',flags = re.IGNORECASE))*10\n",
    "encode_inherit = inhAD + inhAR\n",
    "decode_inherit = {11:'AD|AR',10:'AR',1:'AD',0:None}\n",
    "inheritance = encode_inherit.replace(decode_inherit)\n",
    "#inheritance = inheritance.apply(lambda x: x[~x.isnull()].to_list(),axis = 1)"
   ]
  },
  {
   "cell_type": "code",
   "execution_count": 5,
   "metadata": {},
   "outputs": [],
   "source": [
    "tiene_phenotype = pheno_id.isnull().all(1)\n",
    "tiene_autosomal = inheritance.isnull().all(1)\n",
    "ok = (~tiene_autosomal)&(~tiene_phenotype)  # me aseguro que tenga  phenotype id y algun flag de AUTOSOMAL D o R\n",
    "\n",
    "phenotype_inherit = (pheno_id[ok] + ':' + inheritance[ok]).apply(lambda x: x[~x.isnull()].to_list(),axis = 1)\n",
    "mapa = []\n",
    "\n",
    "for g in phenotype_inherit.index:\n",
    "    mapp = pd.Series(phenotype_inherit.loc[g]).str.split(':',expand = True)\n",
    "    mapp.columns= ['OMIM:ID','Inheritance']\n",
    "    mapp['gene'] = g\n",
    "    mapa.append(mapp)\n",
    "map_phenotypeID_inheritance_gene =  pd.concat(mapa)"
   ]
  },
  {
   "cell_type": "code",
   "execution_count": 6,
   "metadata": {},
   "outputs": [
    {
     "data": {
      "text/plain": [
       "AR       2846\n",
       "AD       2438\n",
       "AD|AR     194\n",
       "Name: Inheritance, dtype: int64"
      ]
     },
     "execution_count": 6,
     "metadata": {},
     "output_type": "execute_result"
    }
   ],
   "source": [
    "map_phenotypeID_inheritance_gene.Inheritance.value_counts(dropna=False)"
   ]
  },
  {
   "cell_type": "code",
   "execution_count": 603,
   "metadata": {},
   "outputs": [
    {
     "data": {
      "text/plain": [
       "AD      572\n",
       "AR      421\n",
       "ADAR    194\n",
       "Name: Inheritance, dtype: int64"
      ]
     },
     "execution_count": 603,
     "metadata": {},
     "output_type": "execute_result"
    }
   ],
   "source": [
    "## este numero es restringido a los genes ADAR \n",
    "#map_phenotypeID_inheritance_gene.Inheritance.value_counts(dropna=False)"
   ]
  },
  {
   "cell_type": "code",
   "execution_count": 7,
   "metadata": {},
   "outputs": [
    {
     "data": {
      "text/html": [
       "<div>\n",
       "<style scoped>\n",
       "    .dataframe tbody tr th:only-of-type {\n",
       "        vertical-align: middle;\n",
       "    }\n",
       "\n",
       "    .dataframe tbody tr th {\n",
       "        vertical-align: top;\n",
       "    }\n",
       "\n",
       "    .dataframe thead th {\n",
       "        text-align: right;\n",
       "    }\n",
       "</style>\n",
       "<table border=\"1\" class=\"dataframe\">\n",
       "  <thead>\n",
       "    <tr style=\"text-align: right;\">\n",
       "      <th></th>\n",
       "      <th>OMIM:ID</th>\n",
       "      <th>Inheritance</th>\n",
       "      <th>gene</th>\n",
       "    </tr>\n",
       "  </thead>\n",
       "  <tbody>\n",
       "    <tr>\n",
       "      <th>0</th>\n",
       "      <td>155600</td>\n",
       "      <td>AD</td>\n",
       "      <td>1243</td>\n",
       "    </tr>\n",
       "    <tr>\n",
       "      <th>0</th>\n",
       "      <td>115665</td>\n",
       "      <td>AD</td>\n",
       "      <td>7792</td>\n",
       "    </tr>\n",
       "    <tr>\n",
       "      <th>0</th>\n",
       "      <td>608995</td>\n",
       "      <td>AD</td>\n",
       "      <td>406874</td>\n",
       "    </tr>\n",
       "    <tr>\n",
       "      <th>0</th>\n",
       "      <td>616126</td>\n",
       "      <td>AR</td>\n",
       "      <td>9636</td>\n",
       "    </tr>\n",
       "    <tr>\n",
       "      <th>0</th>\n",
       "      <td>615120</td>\n",
       "      <td>AR</td>\n",
       "      <td>375790</td>\n",
       "    </tr>\n",
       "  </tbody>\n",
       "</table>\n",
       "</div>"
      ],
      "text/plain": [
       "  OMIM:ID Inheritance    gene\n",
       "0  155600          AD    1243\n",
       "0  115665          AD    7792\n",
       "0  608995          AD  406874\n",
       "0  616126          AR    9636\n",
       "0  615120          AR  375790"
      ]
     },
     "execution_count": 7,
     "metadata": {},
     "output_type": "execute_result"
    }
   ],
   "source": [
    "map_phenotypeID_inheritance_gene.head()"
   ]
  },
  {
   "cell_type": "code",
   "execution_count": 8,
   "metadata": {},
   "outputs": [],
   "source": [
    "map_phenotypeID_inheritance_gene.to_csv('/home/vpt/data/omim/20190718/map_phenotypeID_inheritanceMode_entrez.tsv',sep = '\\t')"
   ]
  },
  {
   "cell_type": "markdown",
   "metadata": {},
   "source": [
    "### Match with clinvar"
   ]
  },
  {
   "cell_type": "code",
   "execution_count": 9,
   "metadata": {},
   "outputs": [],
   "source": [
    "import pandas as pd\n",
    "import re\n",
    "import numpy as np"
   ]
  },
  {
   "cell_type": "code",
   "execution_count": 10,
   "metadata": {},
   "outputs": [
    {
     "name": "stderr",
     "output_type": "stream",
     "text": [
      "/home/vpt/venvs/py3/lib/python3.5/site-packages/IPython/core/interactiveshell.py:3057: DtypeWarning: Columns (18) have mixed types. Specify dtype option on import or set low_memory=False.\n",
      "  interactivity=interactivity, compiler=compiler, result=result)\n"
     ]
    }
   ],
   "source": [
    "clinvarTSV = pd.read_csv('/home/vpt/data/clinvar/clinvar_tsv20190624/clinvar_variant_summary_20190624.txt.gz',sep = '\\t')\n",
    "clinvar_omim = clinvarTSV[clinvarTSV.PhenotypeIDS.str.contains('OMIM')]\n",
    "clinvar_omim_unique = clinvar_omim.drop_duplicates(subset = ['VariationID','PhenotypeIDS'])\n",
    "clinvar_omim_unique.index = clinvar_omim_unique.VariationID"
   ]
  },
  {
   "cell_type": "code",
   "execution_count": 11,
   "metadata": {},
   "outputs": [
    {
     "name": "stderr",
     "output_type": "stream",
     "text": [
      "/home/vpt/venvs/py3/lib/python3.5/site-packages/ipykernel_launcher.py:3: SettingWithCopyWarning: \n",
      "A value is trying to be set on a copy of a slice from a DataFrame.\n",
      "Try using .loc[row_indexer,col_indexer] = value instead\n",
      "\n",
      "See the caveats in the documentation: http://pandas.pydata.org/pandas-docs/stable/indexing.html#indexing-view-versus-copy\n",
      "  This is separate from the ipykernel package so we can avoid doing imports until\n"
     ]
    }
   ],
   "source": [
    "omims = clinvar_omim_unique.PhenotypeIDS.str.extractall('(OMIM:[0-9]{6})') ## esto multiplica filas x multiples maches\n",
    "omims_per_variant = omims.reset_index().groupby(['VariationID'])[0].agg(lambda col: ';'.join(col))\n",
    "clinvar_omim_unique['OMIM_phenotypeIDs'] = omims_per_variant\n",
    "\n",
    "# approach descartado; esto te trae los ids de medgen tambien por el separador de campo utilizado\n",
    "\n",
    "##split_pheno = clinvar_omim_unique.PhenotypeIDS.str.split(',')\n",
    "##split_pheno.head().values\n",
    "##omims = split_pheno.apply(lambda x: ','.join([a for a in x if 'OMIM' in a ]))  ## \n"
   ]
  },
  {
   "cell_type": "markdown",
   "metadata": {},
   "source": [
    "# Creo un mapa para imputar AR / AD o AD-AR "
   ]
  },
  {
   "cell_type": "code",
   "execution_count": 52,
   "metadata": {},
   "outputs": [],
   "source": [
    "auxiliar_map = map_phenotypeID_inheritance_gene.copy()\n",
    "auxiliar_map['OMIM:ID'] = 'OMIM:'+map_phenotypeID_inheritance_gene['OMIM:ID']\n",
    "auxiliar_map.index = auxiliar_map['OMIM:ID']\n",
    "omimdict = auxiliar_map['Inheritance'].to_dict()"
   ]
  },
  {
   "cell_type": "markdown",
   "metadata": {},
   "source": [
    "##  'autosomal' Phenotypes"
   ]
  },
  {
   "cell_type": "code",
   "execution_count": 53,
   "metadata": {},
   "outputs": [
    {
     "data": {
      "text/plain": [
       "(4492,)"
      ]
     },
     "execution_count": 53,
     "metadata": {},
     "output_type": "execute_result"
    }
   ],
   "source": [
    "clinvar_expanded_phenotypeIDs = clinvar_omim_unique['OMIM_phenotypeIDs'].str.split(';',expand = True)\n",
    "a =clinvar_expanded_phenotypeIDs.values.ravel()# .isin(list(omimdict.keys())\n",
    "ids = np.unique(a[a != None])\n",
    "autosomal_phenotypes = ids[(pd.Series(ids).isin(list(omimdict.keys())))]\n",
    "autosomal_phenotypes.shape"
   ]
  },
  {
   "cell_type": "markdown",
   "metadata": {},
   "source": [
    "## other phenotypes are from two clases: \n",
    " * UNKNOWN or other rather AUTOSOMAL"
   ]
  },
  {
   "cell_type": "code",
   "execution_count": 54,
   "metadata": {},
   "outputs": [
    {
     "data": {
      "text/plain": [
       "(1077,)"
      ]
     },
     "execution_count": 54,
     "metadata": {},
     "output_type": "execute_result"
    }
   ],
   "source": [
    "other_phenotypes = ids[~(pd.Series(ids).isin(list(omimdict.keys())))]\n",
    "other_phenotypes.shape \n"
   ]
  },
  {
   "cell_type": "markdown",
   "metadata": {},
   "source": [
    "## amplio el diccionario con los fenotipos no autosomicos o de herencia desconocida"
   ]
  },
  {
   "cell_type": "code",
   "execution_count": 55,
   "metadata": {},
   "outputs": [],
   "source": [
    "for i in other_phenotypes:\n",
    "    omimdict.update({i:'other/unknown'})"
   ]
  },
  {
   "cell_type": "markdown",
   "metadata": {},
   "source": [
    "###  imputo AD, AR, AD|AR "
   ]
  },
  {
   "cell_type": "code",
   "execution_count": 56,
   "metadata": {},
   "outputs": [],
   "source": [
    "# esto es infinitamente mas rapido que un replace!!\n",
    "clinvar_inheritance = clinvar_expanded_phenotypeIDs.copy()\n",
    "for i in clinvar_inheritance.columns:\n",
    "    clinvar_inheritance[i] = clinvar_inheritance[i].map(omimdict)\n"
   ]
  },
  {
   "cell_type": "code",
   "execution_count": 88,
   "metadata": {},
   "outputs": [],
   "source": [
    "AR = (clinvar_inheritance == 'AR').any(1)\n",
    "AD = 10*(clinvar_inheritance == 'AD').any(1)\n",
    "ADAR = 100*(clinvar_inheritance == 'AD|AR').any(1)\n",
    "OTHER = 1000*(clinvar_inheritance == 'other/unknown').any(1)\n",
    "inheritance_flag = AR + AD + ADAR + OTHER\n"
   ]
  },
  {
   "cell_type": "code",
   "execution_count": 104,
   "metadata": {},
   "outputs": [],
   "source": [
    "inheritance_veredict = pd.Series(['veredict']*len(inheritance_flag),index = inheritance_flag.index)\n",
    "inheritance_veredict[(inheritance_flag==1).values] = 'AR'\n",
    "inheritance_veredict[(inheritance_flag==10).values] = 'AD'\n",
    "inheritance_veredict[((inheritance_flag >10) & (inheritance_flag <1000)).values] = 'AD|AR'\n",
    "inheritance_veredict[(inheritance_flag>=1000).values] = 'other/unknown'"
   ]
  },
  {
   "cell_type": "code",
   "execution_count": 105,
   "metadata": {},
   "outputs": [
    {
     "data": {
      "text/plain": [
       "AD               92406\n",
       "AR               85111\n",
       "other/unknown    33554\n",
       "AD|AR            14176\n",
       "dtype: int64"
      ]
     },
     "execution_count": 105,
     "metadata": {},
     "output_type": "execute_result"
    }
   ],
   "source": [
    "inheritance_veredict.value_counts()"
   ]
  },
  {
   "cell_type": "code",
   "execution_count": 107,
   "metadata": {},
   "outputs": [
    {
     "name": "stderr",
     "output_type": "stream",
     "text": [
      "/home/vpt/venvs/py3/lib/python3.5/site-packages/ipykernel_launcher.py:1: SettingWithCopyWarning: \n",
      "A value is trying to be set on a copy of a slice from a DataFrame.\n",
      "Try using .loc[row_indexer,col_indexer] = value instead\n",
      "\n",
      "See the caveats in the documentation: http://pandas.pydata.org/pandas-docs/stable/indexing.html#indexing-view-versus-copy\n",
      "  \"\"\"Entry point for launching an IPython kernel.\n"
     ]
    },
    {
     "data": {
      "text/plain": [
       "AD               92406\n",
       "AR               85111\n",
       "other/unknown    33554\n",
       "AD|AR            14176\n",
       "Name: inheritance_omim, dtype: int64"
      ]
     },
     "execution_count": 107,
     "metadata": {},
     "output_type": "execute_result"
    }
   ],
   "source": [
    "clinvar_omim_unique['inheritance_omim'] =  inheritance_veredict\n",
    "clinvar_omim_unique.inheritance_omim.value_counts(dropna = False)"
   ]
  },
  {
   "cell_type": "markdown",
   "metadata": {},
   "source": [
    "## restringido a pathogenicas"
   ]
  },
  {
   "cell_type": "code",
   "execution_count": 113,
   "metadata": {},
   "outputs": [
    {
     "data": {
      "text/html": [
       "<div>\n",
       "<style scoped>\n",
       "    .dataframe tbody tr th:only-of-type {\n",
       "        vertical-align: middle;\n",
       "    }\n",
       "\n",
       "    .dataframe tbody tr th {\n",
       "        vertical-align: top;\n",
       "    }\n",
       "\n",
       "    .dataframe thead th {\n",
       "        text-align: right;\n",
       "    }\n",
       "</style>\n",
       "<table border=\"1\" class=\"dataframe\">\n",
       "  <thead>\n",
       "    <tr style=\"text-align: right;\">\n",
       "      <th></th>\n",
       "      <th>ClinSigSimple</th>\n",
       "      <th>ClinicalSignificance</th>\n",
       "    </tr>\n",
       "    <tr>\n",
       "      <th>VariationID</th>\n",
       "      <th></th>\n",
       "      <th></th>\n",
       "    </tr>\n",
       "  </thead>\n",
       "  <tbody>\n",
       "    <tr>\n",
       "      <th>2</th>\n",
       "      <td>1</td>\n",
       "      <td>Pathogenic</td>\n",
       "    </tr>\n",
       "    <tr>\n",
       "      <th>3</th>\n",
       "      <td>1</td>\n",
       "      <td>Pathogenic</td>\n",
       "    </tr>\n",
       "    <tr>\n",
       "      <th>4</th>\n",
       "      <td>0</td>\n",
       "      <td>Uncertain significance</td>\n",
       "    </tr>\n",
       "    <tr>\n",
       "      <th>5</th>\n",
       "      <td>1</td>\n",
       "      <td>Pathogenic</td>\n",
       "    </tr>\n",
       "    <tr>\n",
       "      <th>6</th>\n",
       "      <td>1</td>\n",
       "      <td>Pathogenic</td>\n",
       "    </tr>\n",
       "    <tr>\n",
       "      <th>214885</th>\n",
       "      <td>0</td>\n",
       "      <td>Uncertain significance</td>\n",
       "    </tr>\n",
       "    <tr>\n",
       "      <th>8</th>\n",
       "      <td>1</td>\n",
       "      <td>Pathogenic</td>\n",
       "    </tr>\n",
       "    <tr>\n",
       "      <th>9</th>\n",
       "      <td>1</td>\n",
       "      <td>Conflicting interpretations of pathogenicity, ...</td>\n",
       "    </tr>\n",
       "    <tr>\n",
       "      <th>10</th>\n",
       "      <td>1</td>\n",
       "      <td>Pathogenic, other, risk factor</td>\n",
       "    </tr>\n",
       "    <tr>\n",
       "      <th>11</th>\n",
       "      <td>1</td>\n",
       "      <td>Uncertain significance</td>\n",
       "    </tr>\n",
       "  </tbody>\n",
       "</table>\n",
       "</div>"
      ],
      "text/plain": [
       "             ClinSigSimple                               ClinicalSignificance\n",
       "VariationID                                                                  \n",
       "2                        1                                         Pathogenic\n",
       "3                        1                                         Pathogenic\n",
       "4                        0                             Uncertain significance\n",
       "5                        1                                         Pathogenic\n",
       "6                        1                                         Pathogenic\n",
       "214885                   0                             Uncertain significance\n",
       "8                        1                                         Pathogenic\n",
       "9                        1  Conflicting interpretations of pathogenicity, ...\n",
       "10                       1                     Pathogenic, other, risk factor\n",
       "11                       1                             Uncertain significance"
      ]
     },
     "execution_count": 113,
     "metadata": {},
     "output_type": "execute_result"
    }
   ],
   "source": [
    "clinvar_omim_unique[['ClinSigSimple','ClinicalSignificance']].head(10)"
   ]
  },
  {
   "cell_type": "code",
   "execution_count": 111,
   "metadata": {},
   "outputs": [
    {
     "data": {
      "text/plain": [
       "ClinSigSimple  inheritance_omim\n",
       "-1             AR                    157\n",
       "               AD                     79\n",
       "               other/unknown          45\n",
       "               AD|AR                   7\n",
       " 0             AD                  63193\n",
       "               AR                  55205\n",
       "               other/unknown       22219\n",
       "               AD|AR               11292\n",
       " 1             AR                  29749\n",
       "               AD                  29134\n",
       "               other/unknown       11290\n",
       "               AD|AR                2877\n",
       "Name: inheritance_omim, dtype: int64"
      ]
     },
     "execution_count": 111,
     "metadata": {},
     "output_type": "execute_result"
    }
   ],
   "source": [
    "clinvar_omim_unique.groupby(['ClinSigSimple'])['inheritance_omim'].value_counts()"
   ]
  },
  {
   "cell_type": "code",
   "execution_count": 115,
   "metadata": {},
   "outputs": [],
   "source": [
    "clinvar_omim_unique.to_csv('/home/vpt/data/clinvar/clinvar_tsv20190624/clinvar_omim_unique_with_inheritance.tsv',\n",
    "                           sep = '\\t',index = False)"
   ]
  },
  {
   "cell_type": "markdown",
   "metadata": {},
   "source": [
    "## hay que splitear Other of Unknown!!! "
   ]
  },
  {
   "cell_type": "code",
   "execution_count": 116,
   "metadata": {},
   "outputs": [],
   "source": [
    "from matplotlib_venn import venn2, venn2_circles\n",
    "from matplotlib_venn import venn3, venn3_circles\n",
    "from matplotlib import pyplot as plt"
   ]
  },
  {
   "cell_type": "code",
   "execution_count": 117,
   "metadata": {},
   "outputs": [
    {
     "name": "stdout",
     "output_type": "stream",
     "text": [
      "76068\n",
      "69809\n",
      "49777\n"
     ]
    }
   ],
   "source": [
    "clinvarAD = pd.read_csv('/home/vpt/data/clinvar/clinvar_omim_by_GEN/AD-clinvarOMIM.tsv',sep ='\\t')\n",
    "print(clinvarAD.shape[0])\n",
    "clinvarAR  = pd.read_csv('/home/vpt/data/clinvar/clinvar_omim_by_GEN/AR-clinvarOMIM.tsv',sep ='\\t')\n",
    "print(clinvarAR.shape[0])\n",
    "clinvarBOTH  = pd.read_csv('/home/vpt/data/clinvar/clinvar_omim_by_GEN/ADAR-clinvarOMIM.tsv',sep ='\\t')\n",
    "print(clinvarBOTH.shape[0])\n"
   ]
  },
  {
   "cell_type": "code",
   "execution_count": 119,
   "metadata": {},
   "outputs": [
    {
     "data": {
      "text/plain": [
       "<matplotlib_venn._common.VennDiagram at 0x7f4247f2a898>"
      ]
     },
     "execution_count": 119,
     "metadata": {},
     "output_type": "execute_result"
    },
    {
     "data": {
      "image/png": "[encoded data removed]",
      "text/plain": [
       "<Figure size 640x640 with 1 Axes>"
      ]
     },
     "metadata": {},
     "output_type": "display_data"
    }
   ],
   "source": [
    "fig=plt.figure(figsize=(8, 8), dpi= 80, facecolor='w', edgecolor='k')\n",
    "venn3([set(clinvarAD.VariationID.values),\n",
    "     set(clinvar_omim_unique[clinvar_omim_unique.inheritance_omim=='AD'].VariationID.values),\n",
    "     set(clinvar_omim_unique[clinvar_omim_unique.inheritance_omim=='AR'].VariationID.values)],\n",
    "      set_labels = ('AD-matchbyGene', 'AD-by-phenotype','AR-by-phenotype'))"
   ]
  },
  {
   "cell_type": "code",
   "execution_count": 130,
   "metadata": {},
   "outputs": [
    {
     "data": {
      "text/plain": [
       "<matplotlib_venn._common.VennDiagram at 0x7f4247e0cdd8>"
      ]
     },
     "execution_count": 130,
     "metadata": {},
     "output_type": "execute_result"
    },
    {
     "data": {
      "image/png": "[encoded data removed]",
      "text/plain": [
       "<Figure size 640x640 with 1 Axes>"
      ]
     },
     "metadata": {},
     "output_type": "display_data"
    }
   ],
   "source": [
    "fig=plt.figure(figsize=(8, 8), dpi= 80, facecolor='w', edgecolor='k')\n",
    "venn3([set(clinvarAR.VariationID.values),\n",
    "     set(clinvar_omim_unique[clinvar_omim_unique.inheritance_omim=='AR'].VariationID.values),\n",
    "     set(clinvar_omim_unique[clinvar_omim_unique.inheritance_omim=='AD'].VariationID.values)],\n",
    "      set_labels = ('AR-matchbyGene', 'AR-by-phenotype','AD-by-phenotype'))"
   ]
  },
  {
   "cell_type": "code",
   "execution_count": 126,
   "metadata": {},
   "outputs": [
    {
     "data": {
      "text/plain": [
       "<matplotlib_venn._common.VennDiagram at 0x7f42481b59b0>"
      ]
     },
     "execution_count": 126,
     "metadata": {},
     "output_type": "execute_result"
    },
    {
     "data": {
      "image/png": "[encoded data removed]",
      "text/plain": [
       "<Figure size 432x288 with 1 Axes>"
      ]
     },
     "metadata": {},
     "output_type": "display_data"
    }
   ],
   "source": [
    "venn2([set(clinvarAD.VariationID.values),\n",
    "     set(clinvar_omim_unique[clinvar_omim_unique.inheritance_omim=='AD'].VariationID.values),\n",
    "     ],\n",
    "      set_labels = ('AD-matchbyGene', 'AD-by-phenotype'))"
   ]
  },
  {
   "cell_type": "code",
   "execution_count": 131,
   "metadata": {},
   "outputs": [
    {
     "data": {
      "text/plain": [
       "<matplotlib_venn._common.VennDiagram at 0x7f424828fef0>"
      ]
     },
     "execution_count": 131,
     "metadata": {},
     "output_type": "execute_result"
    },
    {
     "data": {
      "image/png": "[encoded data removed]",
      "text/plain": [
       "<Figure size 432x288 with 1 Axes>"
      ]
     },
     "metadata": {},
     "output_type": "display_data"
    }
   ],
   "source": [
    "venn2([set(clinvarAR.VariationID.values),\n",
    "     set(clinvar_omim_unique[clinvar_omim_unique.inheritance_omim=='AR'].VariationID.values),\n",
    "     ],\n",
    "      set_labels = ('AR-matchbyGene', 'AR-by-phenotype'))"
   ]
  },
  {
   "cell_type": "code",
   "execution_count": 203,
   "metadata": {},
   "outputs": [
    {
     "data": {
      "image/png": "[encoded data removed]",
      "text/plain": [
       "<Figure size 800x800 with 1 Axes>"
      ]
     },
     "metadata": {},
     "output_type": "display_data"
    }
   ],
   "source": [
    "fig=plt.figure(figsize=(10, 10), dpi= 80, facecolor='w', edgecolor='k')\n",
    "v =venn3([set(clinvarBOTH.VariationID.values),\n",
    "     set(clinvar_omim_unique[clinvar_omim_unique.inheritance_omim=='AD'].VariationID.values),\n",
    "     set(clinvar_omim_unique[clinvar_omim_unique.inheritance_omim=='AR'].VariationID.values)],\n",
    "      set_labels = ('BOTH-matchbyGene', 'AD-by-phenotype','AR-by-phenotype'))\n",
    "v.subset_labels[0] = plt.Text(0.02453599008633018, 0.2, '17960')\n",
    "\n",
    "plt.show(v)\n"
   ]
  },
  {
   "cell_type": "code",
   "execution_count": 205,
   "metadata": {},
   "outputs": [
    {
     "data": {
      "image/png": "[encoded data removed]",
      "text/plain": [
       "<Figure size 800x800 with 1 Axes>"
      ]
     },
     "metadata": {},
     "output_type": "display_data"
    }
   ],
   "source": [
    "fig=plt.figure(figsize=(10, 10), dpi= 80, facecolor='w', edgecolor='k')\n",
    "v =venn3([set(clinvarBOTH.VariationID.values),\n",
    "     set(clinvar_omim_unique[clinvar_omim_unique.inheritance_omim=='AD|AR'].VariationID.values),\n",
    "     set(clinvar_omim_unique[clinvar_omim_unique.inheritance_omim=='other/unknown'].VariationID.values)],\n",
    "      set_labels = ('BOTH-matchbyGene', 'AD|AR-by-phenotype','Unknown-by-phenotype'))\n",
    "v.subset_labels[0] = plt.Text(0.02453599008633018, 0.2, '17960')\n",
    "\n",
    "plt.show(v)\n"
   ]
  },
  {
   "cell_type": "code",
   "execution_count": null,
   "metadata": {},
   "outputs": [],
   "source": []
  }
 ],
 "metadata": {
  "kernelspec": {
   "display_name": "py3",
   "language": "python",
   "name": "py3"
  },
  "language_info": {
   "codemirror_mode": {
    "name": "ipython",
    "version": 3
   },
   "file_extension": ".py",
   "mimetype": "text/x-python",
   "name": "python",
   "nbconvert_exporter": "python",
   "pygments_lexer": "ipython3",
   "version": "3.5.2"
  }
 },
 "nbformat": 4,
 "nbformat_minor": 2
}
