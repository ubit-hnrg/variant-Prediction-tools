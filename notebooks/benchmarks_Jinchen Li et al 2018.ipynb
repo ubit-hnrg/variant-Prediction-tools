{
 "cells": [
  {
   "cell_type": "code",
   "execution_count": 1,
   "metadata": {},
   "outputs": [],
   "source": [
    "%matplotlib inline\n",
    "import pandas as pd"
   ]
  },
  {
   "cell_type": "code",
   "execution_count": 12,
   "metadata": {},
   "outputs": [],
   "source": [
    "suppT2 = pd.read_csv('/home/ariel/Downloads/supplementary-Table-S2-The-testing-missense-variants-of-benchmark-datasets.csv',\n",
    "                     sep = '\\t')"
   ]
  },
  {
   "cell_type": "code",
   "execution_count": 16,
   "metadata": {},
   "outputs": [
    {
     "data": {
      "text/html": [
       "<div>\n",
       "<style scoped>\n",
       "    .dataframe tbody tr th:only-of-type {\n",
       "        vertical-align: middle;\n",
       "    }\n",
       "\n",
       "    .dataframe tbody tr th {\n",
       "        vertical-align: top;\n",
       "    }\n",
       "\n",
       "    .dataframe thead th {\n",
       "        text-align: right;\n",
       "    }\n",
       "</style>\n",
       "<table border=\"1\" class=\"dataframe\">\n",
       "  <thead>\n",
       "    <tr style=\"text-align: right;\">\n",
       "      <th></th>\n",
       "      <th>Data_source</th>\n",
       "      <th>Chr</th>\n",
       "      <th>Start</th>\n",
       "      <th>End</th>\n",
       "      <th>Ref</th>\n",
       "      <th>Alt</th>\n",
       "      <th>Gene_symbol</th>\n",
       "      <th>Label</th>\n",
       "    </tr>\n",
       "  </thead>\n",
       "  <tbody>\n",
       "    <tr>\n",
       "      <th>0</th>\n",
       "      <td>ClinVar</td>\n",
       "      <td>chr15</td>\n",
       "      <td>23890816</td>\n",
       "      <td>23890816</td>\n",
       "      <td>C</td>\n",
       "      <td>T</td>\n",
       "      <td>MAGEL2</td>\n",
       "      <td>Benign</td>\n",
       "    </tr>\n",
       "    <tr>\n",
       "      <th>1</th>\n",
       "      <td>ClinVar</td>\n",
       "      <td>chr2</td>\n",
       "      <td>84756049</td>\n",
       "      <td>84756049</td>\n",
       "      <td>G</td>\n",
       "      <td>A</td>\n",
       "      <td>DNAH6</td>\n",
       "      <td>Benign</td>\n",
       "    </tr>\n",
       "    <tr>\n",
       "      <th>2</th>\n",
       "      <td>ClinVar</td>\n",
       "      <td>chr2</td>\n",
       "      <td>179518937</td>\n",
       "      <td>179518937</td>\n",
       "      <td>T</td>\n",
       "      <td>C</td>\n",
       "      <td>TTN</td>\n",
       "      <td>Benign</td>\n",
       "    </tr>\n",
       "    <tr>\n",
       "      <th>3</th>\n",
       "      <td>ClinVar</td>\n",
       "      <td>chr8</td>\n",
       "      <td>10467652</td>\n",
       "      <td>10467652</td>\n",
       "      <td>G</td>\n",
       "      <td>C</td>\n",
       "      <td>RP1L1</td>\n",
       "      <td>Benign</td>\n",
       "    </tr>\n",
       "    <tr>\n",
       "      <th>4</th>\n",
       "      <td>ClinVar</td>\n",
       "      <td>chr17</td>\n",
       "      <td>76497920</td>\n",
       "      <td>76497920</td>\n",
       "      <td>C</td>\n",
       "      <td>A</td>\n",
       "      <td>DNAH17</td>\n",
       "      <td>Benign</td>\n",
       "    </tr>\n",
       "  </tbody>\n",
       "</table>\n",
       "</div>"
      ],
      "text/plain": [
       "  Data_source    Chr      Start        End Ref Alt Gene_symbol   Label\n",
       "0     ClinVar  chr15   23890816   23890816   C   T      MAGEL2  Benign\n",
       "1     ClinVar   chr2   84756049   84756049   G   A       DNAH6  Benign\n",
       "2     ClinVar   chr2  179518937  179518937   T   C         TTN  Benign\n",
       "3     ClinVar   chr8   10467652   10467652   G   C       RP1L1  Benign\n",
       "4     ClinVar  chr17   76497920   76497920   C   A      DNAH17  Benign"
      ]
     },
     "execution_count": 16,
     "metadata": {},
     "output_type": "execute_result"
    }
   ],
   "source": [
    "suppT2.rename(columns = {'Data source':'Data_source'},inplace = True)\n",
    "suppT2.head()"
   ]
  },
  {
   "cell_type": "markdown",
   "metadata": {},
   "source": [
    "# Sources:\n",
    "\n",
    "\n",
    "#### 1) *  Clinvar es clinvar ;)\n",
    "\n",
    "#### 2) * Notar que TP53 + ICGC  son ambas de Cancer. \n",
    "* Conforman un solo dataset de validacion\n",
    "\n",
    "#### 3) * PPARG gen \n",
    "* (peroxisome proliferator activated receptor γ)  experimentalmente,  evaluaron todas las posibles sustituciones de aminoacidos. Este conforma un dataset de evaluacion per-se.  MITER database\n",
    "\n",
    "\n",
    "#### 4) * De novo (autismo vs control) \n",
    "* SSC 2508 pacietes con autismo vs 1911 pacientes en grupo control"
   ]
  },
  {
   "cell_type": "code",
   "execution_count": 31,
   "metadata": {},
   "outputs": [
    {
     "data": {
      "text/plain": [
       "ClinVar    4880\n",
       "SSC        2757\n",
       "PPARG      2533\n",
       "TP53       1014\n",
       "ICGC        811\n",
       "Name: Data_source, dtype: int64"
      ]
     },
     "execution_count": 31,
     "metadata": {},
     "output_type": "execute_result"
    }
   ],
   "source": [
    "sources = suppT2.Data_source.value_counts().index\n",
    "suppT2.Data_source.value_counts()\n"
   ]
  },
  {
   "cell_type": "markdown",
   "metadata": {},
   "source": [
    "# Minimal Clinvar caracterization"
   ]
  },
  {
   "cell_type": "code",
   "execution_count": 29,
   "metadata": {},
   "outputs": [
    {
     "data": {
      "text/plain": [
       "Benign        2782\n",
       "Pathogenic    2098\n",
       "Name: Label, dtype: int64"
      ]
     },
     "execution_count": 29,
     "metadata": {},
     "output_type": "execute_result"
    }
   ],
   "source": [
    "supp_clnv = suppT2[suppT2.Data_source=='ClinVar']\n",
    "supp_clnv.Label.value_counts()"
   ]
  },
  {
   "cell_type": "markdown",
   "metadata": {},
   "source": [
    "# Label caracterization per source"
   ]
  },
  {
   "cell_type": "code",
   "execution_count": 32,
   "metadata": {},
   "outputs": [
    {
     "data": {
      "text/plain": [
       "Data_source  Label                       \n",
       "ClinVar      Benign                          2782\n",
       "             Pathogenic                      2098\n",
       "ICGC         Likely pathogenic                429\n",
       "             Pathogenic/Likely pathogenic     189\n",
       "             Pathogenic                       145\n",
       "             Benign                            38\n",
       "             Likely benign                     10\n",
       "PPARG        not pathogenic                  2386\n",
       "             pathogenic                       147\n",
       "SSC          asd                             1650\n",
       "             control                         1107\n",
       "TP53         functional                       537\n",
       "             non-functional                   477\n",
       "Name: Label, dtype: int64"
      ]
     },
     "execution_count": 32,
     "metadata": {},
     "output_type": "execute_result"
    }
   ],
   "source": [
    "suppT2.groupby(['Data_source'])['Label'].value_counts()"
   ]
  },
  {
   "cell_type": "markdown",
   "metadata": {},
   "source": [
    "## Este diccionario es acorde al paper   (Jinchen Li et al 2018)"
   ]
  },
  {
   "cell_type": "code",
   "execution_count": 33,
   "metadata": {},
   "outputs": [],
   "source": [
    "patho_beningn = {'Benign':'Benign',\n",
    "'Pathogenic':'Pathogenic',\n",
    "'Likely pathogenic':'Pathogenic',\n",
    "'Pathogenic/Likely pathogenic':'Pathogenic',\n",
    "'Likely benign':'Benign',\n",
    "'not pathogenic':'Pathogenic',\n",
    "'pathogenic':'Pathogenic',\n",
    "'asd':'Pathogenic',\n",
    "'control':'Benign',\n",
    "'functional':'Benign',   \n",
    "'non-functional':'Pathogenic'}"
   ]
  },
  {
   "cell_type": "markdown",
   "metadata": {},
   "source": [
    "# Perdemos a lo susmo 4474  Benignas\n",
    "*  si es que fueran todas raras y con algun homozigota en gnomad...\n",
    "\n",
    "#  Perdemos a lo sumo 7521  Patogenicas \n",
    "* uno pensaria que solo pierde las de clinvar (unas 2000) pero Clinvar pudo haberse actualizado desde entonces y pudo haber incorporado algunas de las 5500 patogenicas que vienen de otros datasets..."
   ]
  },
  {
   "cell_type": "code",
   "execution_count": 34,
   "metadata": {},
   "outputs": [
    {
     "data": {
      "text/plain": [
       "Pathogenic    7521\n",
       "Benign        4474\n",
       "Name: Label, dtype: int64"
      ]
     },
     "execution_count": 34,
     "metadata": {},
     "output_type": "execute_result"
    }
   ],
   "source": [
    "suppT2.Label.replace(patho_beningn).value_counts()"
   ]
  },
  {
   "cell_type": "code",
   "execution_count": 41,
   "metadata": {},
   "outputs": [
    {
     "data": {
      "text/plain": [
       "<matplotlib.axes._subplots.AxesSubplot at 0x7f456ba3cb50>"
      ]
     },
     "execution_count": 41,
     "metadata": {},
     "output_type": "execute_result"
    },
    {
     "data": {
      "image/png": "[encoded data removed]",
      "text/plain": [
       "<Figure size 432x288 with 1 Axes>"
      ]
     },
     "metadata": {},
     "output_type": "display_data"
    }
   ],
   "source": [
    "# bias por gen: (pendiente ver qué genes componen la cola de la distribución, circularidad de tipo 2)\n",
    "supp_clnv.Gene_symbol.value_counts().hist(bins = 100,log = True)#.value_counts().head(10)"
   ]
  },
  {
   "cell_type": "markdown",
   "metadata": {},
   "source": [
    "# No hay algun indel filtrado..."
   ]
  },
  {
   "cell_type": "code",
   "execution_count": 28,
   "metadata": {},
   "outputs": [
    {
     "data": {
      "text/plain": [
       "False"
      ]
     },
     "execution_count": 28,
     "metadata": {},
     "output_type": "execute_result"
    }
   ],
   "source": [
    "any(suppT2.Start != suppT2.End)"
   ]
  }
 ],
 "metadata": {
  "kernelspec": {
   "display_name": "Python 2",
   "language": "python",
   "name": "python2"
  },
  "language_info": {
   "codemirror_mode": {
    "name": "ipython",
    "version": 2
   },
   "file_extension": ".py",
   "mimetype": "text/x-python",
   "name": "python",
   "nbconvert_exporter": "python",
   "pygments_lexer": "ipython2",
   "version": "2.7.12"
  }
 },
 "nbformat": 4,
 "nbformat_minor": 2
}
