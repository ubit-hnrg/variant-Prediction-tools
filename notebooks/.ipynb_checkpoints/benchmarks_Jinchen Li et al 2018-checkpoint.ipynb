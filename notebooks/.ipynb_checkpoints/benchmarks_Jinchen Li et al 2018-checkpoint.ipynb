{
 "metadata": {
  "kernelspec": {
   "display_name": "Python 2",
   "language": "python",
   "name": "python2"
  },
  "language_info": {
   "codemirror_mode": {
    "name": "ipython",
    "version": 2
   },
   "file_extension": ".py",
   "mimetype": "text/x-python",
   "name": "python",
   "nbconvert_exporter": "python",
   "pygments_lexer": "ipython2",
   "version": "2.7.12"
  },
  "name": "",
  "signature": "sha256:7ab3de101e90efa1ee9f304b75ed6c704d1c1b2e4f711aa6e1443f065ea0caa1"
 },
 "nbformat": 3,
 "nbformat_minor": 0,
 "worksheets": [
  {
   "cells": [
    {
     "cell_type": "code",
     "collapsed": false,
     "input": [
      "%matplotlib inline\n",
      "import pandas as pd"
     ],
     "language": "python",
     "metadata": {},
     "outputs": [],
     "prompt_number": 1
    },
    {
     "cell_type": "code",
     "collapsed": false,
     "input": [
      "suppT2 = pd.read_csv('/home/vpt/data/benchmark/supplementary-Table-S2-The-testing-missense-variants-of-benchmark-datasets.tsv',sep = '\\t')\n",
      "clinvar = pd.read_csv('/home/vpt/data/clinvar/clinvar_variant_summary_20190624.txt.gz',sep='\\t')"
     ],
     "language": "python",
     "metadata": {},
     "outputs": [
      {
       "output_type": "stream",
       "stream": "stderr",
       "text": [
        "/usr/lib/python2.7/dist-packages/IPython/core/interactiveshell.py:2741: DtypeWarning: Columns (18) have mixed types. Specify dtype option on import or set low_memory=False.\n",
        "  interactivity=interactivity, compiler=compiler)\n"
       ]
      }
     ],
     "prompt_number": 2
    },
    {
     "cell_type": "code",
     "collapsed": false,
     "input": [
      "suppT2.rename(columns = {'Data source':'Data_source'},inplace = True)\n",
      "suppT2.head()"
     ],
     "language": "python",
     "metadata": {},
     "outputs": [
      {
       "html": [
        "<div style=\"max-width:1500px;overflow:auto;\">\n",
        "<style scoped>\n",
        "    .dataframe tbody tr th:only-of-type {\n",
        "        vertical-align: middle;\n",
        "    }\n",
        "\n",
        "    .dataframe tbody tr th {\n",
        "        vertical-align: top;\n",
        "    }\n",
        "\n",
        "    .dataframe thead th {\n",
        "        text-align: right;\n",
        "    }\n",
        "</style>\n",
        "<table border=\"1\" class=\"dataframe\">\n",
        "  <thead>\n",
        "    <tr style=\"text-align: right;\">\n",
        "      <th></th>\n",
        "      <th>Data_source</th>\n",
        "      <th>Chr</th>\n",
        "      <th>Start</th>\n",
        "      <th>End</th>\n",
        "      <th>Ref</th>\n",
        "      <th>Alt</th>\n",
        "      <th>Gene_symbol</th>\n",
        "      <th>Label</th>\n",
        "    </tr>\n",
        "  </thead>\n",
        "  <tbody>\n",
        "    <tr>\n",
        "      <th>0</th>\n",
        "      <td>ClinVar</td>\n",
        "      <td>chr15</td>\n",
        "      <td>23890816</td>\n",
        "      <td>23890816</td>\n",
        "      <td>C</td>\n",
        "      <td>T</td>\n",
        "      <td>MAGEL2</td>\n",
        "      <td>Benign</td>\n",
        "    </tr>\n",
        "    <tr>\n",
        "      <th>1</th>\n",
        "      <td>ClinVar</td>\n",
        "      <td>chr2</td>\n",
        "      <td>84756049</td>\n",
        "      <td>84756049</td>\n",
        "      <td>G</td>\n",
        "      <td>A</td>\n",
        "      <td>DNAH6</td>\n",
        "      <td>Benign</td>\n",
        "    </tr>\n",
        "    <tr>\n",
        "      <th>2</th>\n",
        "      <td>ClinVar</td>\n",
        "      <td>chr2</td>\n",
        "      <td>179518937</td>\n",
        "      <td>179518937</td>\n",
        "      <td>T</td>\n",
        "      <td>C</td>\n",
        "      <td>TTN</td>\n",
        "      <td>Benign</td>\n",
        "    </tr>\n",
        "    <tr>\n",
        "      <th>3</th>\n",
        "      <td>ClinVar</td>\n",
        "      <td>chr8</td>\n",
        "      <td>10467652</td>\n",
        "      <td>10467652</td>\n",
        "      <td>G</td>\n",
        "      <td>C</td>\n",
        "      <td>RP1L1</td>\n",
        "      <td>Benign</td>\n",
        "    </tr>\n",
        "    <tr>\n",
        "      <th>4</th>\n",
        "      <td>ClinVar</td>\n",
        "      <td>chr17</td>\n",
        "      <td>76497920</td>\n",
        "      <td>76497920</td>\n",
        "      <td>C</td>\n",
        "      <td>A</td>\n",
        "      <td>DNAH17</td>\n",
        "      <td>Benign</td>\n",
        "    </tr>\n",
        "  </tbody>\n",
        "</table>\n",
        "</div>"
       ],
       "metadata": {},
       "output_type": "pyout",
       "prompt_number": 3,
       "text": [
        "  Data_source    Chr      Start        End Ref Alt Gene_symbol   Label\n",
        "0     ClinVar  chr15   23890816   23890816   C   T      MAGEL2  Benign\n",
        "1     ClinVar   chr2   84756049   84756049   G   A       DNAH6  Benign\n",
        "2     ClinVar   chr2  179518937  179518937   T   C         TTN  Benign\n",
        "3     ClinVar   chr8   10467652   10467652   G   C       RP1L1  Benign\n",
        "4     ClinVar  chr17   76497920   76497920   C   A      DNAH17  Benign"
       ]
      }
     ],
     "prompt_number": 3
    },
    {
     "cell_type": "markdown",
     "metadata": {},
     "source": [
      "# Sources:\n",
      "\n",
      "\n",
      "#### 1) *  Clinvar es clinvar ;)\n",
      "\n",
      "#### 2) * Notar que TP53 + ICGC  son ambas de Cancer. \n",
      "* Conforman un solo dataset de validacion\n",
      "\n",
      "#### 3) * PPARG gen \n",
      "* (peroxisome proliferator activated receptor \u03b3)  experimentalmente,  evaluaron todas las posibles sustituciones de aminoacidos. Este conforma un dataset de evaluacion per-se.  MITER database\n",
      "\n",
      "\n",
      "#### 4) * De novo (autismo vs control) \n",
      "* SSC 2508 pacietes con autismo vs 1911 pacientes en grupo control"
     ]
    },
    {
     "cell_type": "code",
     "collapsed": false,
     "input": [
      "sources = suppT2.Data_source.value_counts().index\n",
      "suppT2.Data_source.value_counts()\n"
     ],
     "language": "python",
     "metadata": {},
     "outputs": [
      {
       "metadata": {},
       "output_type": "pyout",
       "prompt_number": 4,
       "text": [
        "ClinVar    4880\n",
        "SSC        2757\n",
        "PPARG      2533\n",
        "TP53       1014\n",
        "ICGC        811\n",
        "Name: Data_source, dtype: int64"
       ]
      }
     ],
     "prompt_number": 4
    },
    {
     "cell_type": "heading",
     "level": 1,
     "metadata": {},
     "source": [
      "Minimal Clinvar caracterization"
     ]
    },
    {
     "cell_type": "code",
     "collapsed": false,
     "input": [
      "supp_clnv = suppT2[suppT2.Data_source=='ClinVar']\n",
      "supp_clnv.Label.value_counts()"
     ],
     "language": "python",
     "metadata": {},
     "outputs": [
      {
       "metadata": {},
       "output_type": "pyout",
       "prompt_number": 5,
       "text": [
        "Benign        2782\n",
        "Pathogenic    2098\n",
        "Name: Label, dtype: int64"
       ]
      }
     ],
     "prompt_number": 5
    },
    {
     "cell_type": "heading",
     "level": 1,
     "metadata": {},
     "source": [
      "Label caracterization per source"
     ]
    },
    {
     "cell_type": "code",
     "collapsed": false,
     "input": [
      "suppT2.groupby(['Data_source'])['Label'].value_counts()"
     ],
     "language": "python",
     "metadata": {},
     "outputs": [
      {
       "metadata": {},
       "output_type": "pyout",
       "prompt_number": 32,
       "text": [
        "Data_source  Label                       \n",
        "ClinVar      Benign                          2782\n",
        "             Pathogenic                      2098\n",
        "ICGC         Likely pathogenic                429\n",
        "             Pathogenic/Likely pathogenic     189\n",
        "             Pathogenic                       145\n",
        "             Benign                            38\n",
        "             Likely benign                     10\n",
        "PPARG        not pathogenic                  2386\n",
        "             pathogenic                       147\n",
        "SSC          asd                             1650\n",
        "             control                         1107\n",
        "TP53         functional                       537\n",
        "             non-functional                   477\n",
        "Name: Label, dtype: int64"
       ]
      }
     ],
     "prompt_number": 32
    },
    {
     "cell_type": "heading",
     "level": 2,
     "metadata": {},
     "source": [
      "Este diccionario es acorde al paper   (Jinchen Li et al 2018)"
     ]
    },
    {
     "cell_type": "code",
     "collapsed": false,
     "input": [
      "patho_beningn = {'Benign':'Benign',\n",
      "'Pathogenic':'Pathogenic',\n",
      "'Likely pathogenic':'Pathogenic',\n",
      "'Pathogenic/Likely pathogenic':'Pathogenic',\n",
      "'Likely benign':'Benign',\n",
      "'not pathogenic':'Pathogenic',\n",
      "'pathogenic':'Pathogenic',\n",
      "'asd':'Pathogenic',\n",
      "'control':'Benign',\n",
      "'functional':'Benign',   \n",
      "'non-functional':'Pathogenic'}"
     ],
     "language": "python",
     "metadata": {},
     "outputs": [],
     "prompt_number": 33
    },
    {
     "cell_type": "markdown",
     "metadata": {},
     "source": [
      "# Perdemos a lo susmo 4474  Benignas\n",
      "*  si es que fueran todas raras y con algun homozigota en gnomad...\n",
      "\n",
      "#  Perdemos a lo sumo 7521  Patogenicas \n",
      "* uno pensaria que solo pierde las de clinvar (unas 2000) pero Clinvar pudo haberse actualizado desde entonces y pudo haber incorporado algunas de las 5500 patogenicas que vienen de otros datasets..."
     ]
    },
    {
     "cell_type": "code",
     "collapsed": false,
     "input": [
      "suppT2.Label.replace(patho_beningn).value_counts()"
     ],
     "language": "python",
     "metadata": {},
     "outputs": [
      {
       "metadata": {},
       "output_type": "pyout",
       "prompt_number": 34,
       "text": [
        "Pathogenic    7521\n",
        "Benign        4474\n",
        "Name: Label, dtype: int64"
       ]
      }
     ],
     "prompt_number": 34
    },
    {
     "cell_type": "code",
     "collapsed": false,
     "input": [
      "# bias por gen: (pendiente ver qu\u00e9 genes componen la cola de la distribuci\u00f3n, circularidad de tipo 2)\n",
      "supp_clnv.Gene_symbol.value_counts().hist(bins = 100,log = True)#.value_counts().head(10)"
     ],
     "language": "python",
     "metadata": {},
     "outputs": [
      {
       "metadata": {},
       "output_type": "pyout",
       "prompt_number": 41,
       "text": [
        "<matplotlib.axes._subplots.AxesSubplot at 0x7f456ba3cb50>"
       ]
      },
      {
       "metadata": {},
       "output_type": "display_data",
       "png": "[encoded data removed]",
       "text": [
        "<Figure size 432x288 with 1 Axes>"
       ]
      }
     ],
     "prompt_number": 41
    },
    {
     "cell_type": "heading",
     "level": 1,
     "metadata": {},
     "source": [
      "No hay algun indel filtrado..."
     ]
    },
    {
     "cell_type": "code",
     "collapsed": false,
     "input": [
      "any(suppT2.Start != suppT2.End)"
     ],
     "language": "python",
     "metadata": {},
     "outputs": [
      {
       "metadata": {},
       "output_type": "pyout",
       "prompt_number": 28,
       "text": [
        "False"
       ]
      }
     ],
     "prompt_number": 28
    },
    {
     "cell_type": "markdown",
     "metadata": {},
     "source": [
      "# Clinvar: count number of review cases"
     ]
    },
    {
     "cell_type": "code",
     "collapsed": false,
     "input": [
      "supp_clnv.columns"
     ],
     "language": "python",
     "metadata": {},
     "outputs": [
      {
       "metadata": {},
       "output_type": "pyout",
       "prompt_number": 10,
       "text": [
        "Index([u'Data_source', u'Chr', u'Start', u'End', u'Ref', u'Alt',\n",
        "       u'Gene_symbol', u'Label'],\n",
        "      dtype='object')"
       ]
      }
     ],
     "prompt_number": 10
    },
    {
     "cell_type": "code",
     "collapsed": false,
     "input": [
      "clinvar.columns"
     ],
     "language": "python",
     "metadata": {},
     "outputs": [
      {
       "metadata": {},
       "output_type": "pyout",
       "prompt_number": 7,
       "text": [
        "Index([u'#AlleleID', u'Type', u'Name', u'GeneID', u'GeneSymbol', u'HGNC_ID',\n",
        "       u'ClinicalSignificance', u'ClinSigSimple', u'LastEvaluated',\n",
        "       u'RS# (dbSNP)', u'nsv/esv (dbVar)', u'RCVaccession', u'PhenotypeIDS',\n",
        "       u'PhenotypeList', u'Origin', u'OriginSimple', u'Assembly',\n",
        "       u'ChromosomeAccession', u'Chromosome', u'Start', u'Stop',\n",
        "       u'ReferenceAllele', u'AlternateAllele', u'Cytogenetic', u'ReviewStatus',\n",
        "       u'NumberSubmitters', u'Guidelines', u'TestedInGTR', u'OtherIDs',\n",
        "       u'SubmitterCategories', u'VariationID'],\n",
        "      dtype='object')"
       ]
      }
     ],
     "prompt_number": 7
    },
    {
     "cell_type": "code",
     "collapsed": false,
     "input": [
      "supp_clnv['ind'] = supp_clnv.Chr.map(str) + '-' + supp_clnv.Start.map(str) + '-' + supp_clnv.Ref.map(str) + '-' + supp_clnv.Alt.map(str)\n",
      "clinvar['ind'] = 'chr' + clinvar.Chromosome.map(str) + '-' + clinvar.Start.map(str) + '-' + clinvar.ReferenceAllele.map(str) + '-' + clinvar.AlternateAllele.map(str)\n",
      "supp_clnv.set_index(['ind'],inplace = True)\n",
      "clinvar.set_index(['ind'],inplace = True)"
     ],
     "language": "python",
     "metadata": {},
     "outputs": [],
     "prompt_number": 19
    },
    {
     "cell_type": "code",
     "collapsed": false,
     "input": [
      "suppT2_clinvar_updated = pd.merge(supp_clnv,clinvar[clinvar.Assembly == 'GRCh37'][[u'ClinicalSignificance', u'ClinSigSimple','LastEvaluated',u'Assembly',\\\n",
      "                                                     u'ReferenceAllele', u'AlternateAllele', u'Cytogenetic', u'ReviewStatus',u'NumberSubmitters',\n",
      "                                                     u'Guidelines', u'TestedInGTR', u'OtherIDs',u'SubmitterCategories', u'VariationID']],\n",
      "                                  left_index=True,right_index = True,how = 'left')\n"
     ],
     "language": "python",
     "metadata": {},
     "outputs": [],
     "prompt_number": 31
    },
    {
     "cell_type": "code",
     "collapsed": false,
     "input": [
      "suppT2_clinvar_updated.groupby(['Label'])['ClinSigSimple'].value_counts().unstack()"
     ],
     "language": "python",
     "metadata": {},
     "outputs": [
      {
       "html": [
        "<div style=\"max-width:1500px;overflow:auto;\">\n",
        "<style scoped>\n",
        "    .dataframe tbody tr th:only-of-type {\n",
        "        vertical-align: middle;\n",
        "    }\n",
        "\n",
        "    .dataframe tbody tr th {\n",
        "        vertical-align: top;\n",
        "    }\n",
        "\n",
        "    .dataframe thead th {\n",
        "        text-align: right;\n",
        "    }\n",
        "</style>\n",
        "<table border=\"1\" class=\"dataframe\">\n",
        "  <thead>\n",
        "    <tr style=\"text-align: right;\">\n",
        "      <th>ClinSigSimple</th>\n",
        "      <th>-1.0</th>\n",
        "      <th>0.0</th>\n",
        "      <th>1.0</th>\n",
        "    </tr>\n",
        "    <tr>\n",
        "      <th>Label</th>\n",
        "      <th></th>\n",
        "      <th></th>\n",
        "      <th></th>\n",
        "    </tr>\n",
        "  </thead>\n",
        "  <tbody>\n",
        "    <tr>\n",
        "      <th>Benign</th>\n",
        "      <td>NaN</td>\n",
        "      <td>2759.0</td>\n",
        "      <td>19.0</td>\n",
        "    </tr>\n",
        "    <tr>\n",
        "      <th>Pathogenic</th>\n",
        "      <td>11.0</td>\n",
        "      <td>4.0</td>\n",
        "      <td>2081.0</td>\n",
        "    </tr>\n",
        "  </tbody>\n",
        "</table>\n",
        "</div>"
       ],
       "metadata": {},
       "output_type": "pyout",
       "prompt_number": 34,
       "text": [
        "ClinSigSimple  -1.0     0.0     1.0\n",
        "Label                              \n",
        "Benign          NaN  2759.0    19.0\n",
        "Pathogenic     11.0     4.0  2081.0"
       ]
      }
     ],
     "prompt_number": 34
    },
    {
     "cell_type": "code",
     "collapsed": false,
     "input": [
      "print supp_clnv.shape\n",
      "print clinvar.Assembly.value_counts()"
     ],
     "language": "python",
     "metadata": {},
     "outputs": [
      {
       "output_type": "stream",
       "stream": "stdout",
       "text": [
        "(4880, 8)\n",
        "GRCh37    501313\n",
        "GRCh38    472128\n",
        "NCBI36     19625\n",
        "Name: Assembly, dtype: int64"
       ]
      },
      {
       "output_type": "stream",
       "stream": "stdout",
       "text": [
        "\n"
       ]
      }
     ],
     "prompt_number": 37
    },
    {
     "cell_type": "code",
     "collapsed": false,
     "input": [
      "suppT2_clinvar_updated.Ref"
     ],
     "language": "python",
     "metadata": {},
     "outputs": [
      {
       "html": [
        "<div style=\"max-width:1500px;overflow:auto;\">\n",
        "<style scoped>\n",
        "    .dataframe tbody tr th:only-of-type {\n",
        "        vertical-align: middle;\n",
        "    }\n",
        "\n",
        "    .dataframe tbody tr th {\n",
        "        vertical-align: top;\n",
        "    }\n",
        "\n",
        "    .dataframe thead th {\n",
        "        text-align: right;\n",
        "    }\n",
        "</style>\n",
        "<table border=\"1\" class=\"dataframe\">\n",
        "  <thead>\n",
        "    <tr style=\"text-align: right;\">\n",
        "      <th></th>\n",
        "      <th>Data_source</th>\n",
        "      <th>Chr</th>\n",
        "      <th>Start_x</th>\n",
        "      <th>End</th>\n",
        "      <th>Ref</th>\n",
        "      <th>Alt</th>\n",
        "      <th>Gene_symbol</th>\n",
        "      <th>Label</th>\n",
        "      <th>Chromosome</th>\n",
        "      <th>Start_y</th>\n",
        "      <th>...</th>\n",
        "      <th>ReferenceAllele</th>\n",
        "      <th>AlternateAllele</th>\n",
        "      <th>Cytogenetic</th>\n",
        "      <th>ReviewStatus</th>\n",
        "      <th>NumberSubmitters</th>\n",
        "      <th>Guidelines</th>\n",
        "      <th>TestedInGTR</th>\n",
        "      <th>OtherIDs</th>\n",
        "      <th>SubmitterCategories</th>\n",
        "      <th>VariationID</th>\n",
        "    </tr>\n",
        "    <tr>\n",
        "      <th>ind</th>\n",
        "      <th></th>\n",
        "      <th></th>\n",
        "      <th></th>\n",
        "      <th></th>\n",
        "      <th></th>\n",
        "      <th></th>\n",
        "      <th></th>\n",
        "      <th></th>\n",
        "      <th></th>\n",
        "      <th></th>\n",
        "      <th></th>\n",
        "      <th></th>\n",
        "      <th></th>\n",
        "      <th></th>\n",
        "      <th></th>\n",
        "      <th></th>\n",
        "      <th></th>\n",
        "      <th></th>\n",
        "      <th></th>\n",
        "      <th></th>\n",
        "      <th></th>\n",
        "    </tr>\n",
        "  </thead>\n",
        "  <tbody>\n",
        "    <tr>\n",
        "      <th>chr1-100340782-G-T</th>\n",
        "      <td>ClinVar</td>\n",
        "      <td>chr1</td>\n",
        "      <td>100340782</td>\n",
        "      <td>100340782</td>\n",
        "      <td>G</td>\n",
        "      <td>T</td>\n",
        "      <td>AGL</td>\n",
        "      <td>Benign</td>\n",
        "      <td>NaN</td>\n",
        "      <td>NaN</td>\n",
        "      <td>...</td>\n",
        "      <td>NaN</td>\n",
        "      <td>NaN</td>\n",
        "      <td>NaN</td>\n",
        "      <td>NaN</td>\n",
        "      <td>NaN</td>\n",
        "      <td>NaN</td>\n",
        "      <td>NaN</td>\n",
        "      <td>NaN</td>\n",
        "      <td>NaN</td>\n",
        "      <td>NaN</td>\n",
        "    </tr>\n",
        "    <tr>\n",
        "      <th>chr1-100358107-A-G</th>\n",
        "      <td>ClinVar</td>\n",
        "      <td>chr1</td>\n",
        "      <td>100358107</td>\n",
        "      <td>100358107</td>\n",
        "      <td>A</td>\n",
        "      <td>G</td>\n",
        "      <td>AGL</td>\n",
        "      <td>Benign</td>\n",
        "      <td>NaN</td>\n",
        "      <td>NaN</td>\n",
        "      <td>...</td>\n",
        "      <td>NaN</td>\n",
        "      <td>NaN</td>\n",
        "      <td>NaN</td>\n",
        "      <td>NaN</td>\n",
        "      <td>NaN</td>\n",
        "      <td>NaN</td>\n",
        "      <td>NaN</td>\n",
        "      <td>NaN</td>\n",
        "      <td>NaN</td>\n",
        "      <td>NaN</td>\n",
        "    </tr>\n",
        "    <tr>\n",
        "      <th>chr1-100591478-C-T</th>\n",
        "      <td>ClinVar</td>\n",
        "      <td>chr1</td>\n",
        "      <td>100591478</td>\n",
        "      <td>100591478</td>\n",
        "      <td>C</td>\n",
        "      <td>T</td>\n",
        "      <td>SASS6</td>\n",
        "      <td>Benign</td>\n",
        "      <td>NaN</td>\n",
        "      <td>NaN</td>\n",
        "      <td>...</td>\n",
        "      <td>NaN</td>\n",
        "      <td>NaN</td>\n",
        "      <td>NaN</td>\n",
        "      <td>NaN</td>\n",
        "      <td>NaN</td>\n",
        "      <td>NaN</td>\n",
        "      <td>NaN</td>\n",
        "      <td>NaN</td>\n",
        "      <td>NaN</td>\n",
        "      <td>NaN</td>\n",
        "    </tr>\n",
        "    <tr>\n",
        "      <th>chr1-100680410-C-T</th>\n",
        "      <td>ClinVar</td>\n",
        "      <td>chr1</td>\n",
        "      <td>100680410</td>\n",
        "      <td>100680410</td>\n",
        "      <td>C</td>\n",
        "      <td>T</td>\n",
        "      <td>DBT</td>\n",
        "      <td>Pathogenic</td>\n",
        "      <td>NaN</td>\n",
        "      <td>NaN</td>\n",
        "      <td>...</td>\n",
        "      <td>NaN</td>\n",
        "      <td>NaN</td>\n",
        "      <td>NaN</td>\n",
        "      <td>NaN</td>\n",
        "      <td>NaN</td>\n",
        "      <td>NaN</td>\n",
        "      <td>NaN</td>\n",
        "      <td>NaN</td>\n",
        "      <td>NaN</td>\n",
        "      <td>NaN</td>\n",
        "    </tr>\n",
        "    <tr>\n",
        "      <th>chr1-100681587-A-G</th>\n",
        "      <td>ClinVar</td>\n",
        "      <td>chr1</td>\n",
        "      <td>100681587</td>\n",
        "      <td>100681587</td>\n",
        "      <td>A</td>\n",
        "      <td>G</td>\n",
        "      <td>DBT</td>\n",
        "      <td>Benign</td>\n",
        "      <td>NaN</td>\n",
        "      <td>NaN</td>\n",
        "      <td>...</td>\n",
        "      <td>NaN</td>\n",
        "      <td>NaN</td>\n",
        "      <td>NaN</td>\n",
        "      <td>NaN</td>\n",
        "      <td>NaN</td>\n",
        "      <td>NaN</td>\n",
        "      <td>NaN</td>\n",
        "      <td>NaN</td>\n",
        "      <td>NaN</td>\n",
        "      <td>NaN</td>\n",
        "    </tr>\n",
        "  </tbody>\n",
        "</table>\n",
        "<p>5 rows \u00d7 23 columns</p>\n",
        "</div>"
       ],
       "metadata": {},
       "output_type": "pyout",
       "prompt_number": 12,
       "text": [
        "                   Data_source   Chr    Start_x        End Ref Alt  \\\n",
        "ind                                                                  \n",
        "chr1-100340782-G-T     ClinVar  chr1  100340782  100340782   G   T   \n",
        "chr1-100358107-A-G     ClinVar  chr1  100358107  100358107   A   G   \n",
        "chr1-100591478-C-T     ClinVar  chr1  100591478  100591478   C   T   \n",
        "chr1-100680410-C-T     ClinVar  chr1  100680410  100680410   C   T   \n",
        "chr1-100681587-A-G     ClinVar  chr1  100681587  100681587   A   G   \n",
        "\n",
        "                   Gene_symbol       Label Chromosome  Start_y     ...      \\\n",
        "ind                                                                ...       \n",
        "chr1-100340782-G-T         AGL      Benign        NaN      NaN     ...       \n",
        "chr1-100358107-A-G         AGL      Benign        NaN      NaN     ...       \n",
        "chr1-100591478-C-T       SASS6      Benign        NaN      NaN     ...       \n",
        "chr1-100680410-C-T         DBT  Pathogenic        NaN      NaN     ...       \n",
        "chr1-100681587-A-G         DBT      Benign        NaN      NaN     ...       \n",
        "\n",
        "                   ReferenceAllele  AlternateAllele Cytogenetic ReviewStatus  \\\n",
        "ind                                                                            \n",
        "chr1-100340782-G-T             NaN              NaN         NaN          NaN   \n",
        "chr1-100358107-A-G             NaN              NaN         NaN          NaN   \n",
        "chr1-100591478-C-T             NaN              NaN         NaN          NaN   \n",
        "chr1-100680410-C-T             NaN              NaN         NaN          NaN   \n",
        "chr1-100681587-A-G             NaN              NaN         NaN          NaN   \n",
        "\n",
        "                   NumberSubmitters Guidelines TestedInGTR  OtherIDs  \\\n",
        "ind                                                                    \n",
        "chr1-100340782-G-T              NaN        NaN         NaN       NaN   \n",
        "chr1-100358107-A-G              NaN        NaN         NaN       NaN   \n",
        "chr1-100591478-C-T              NaN        NaN         NaN       NaN   \n",
        "chr1-100680410-C-T              NaN        NaN         NaN       NaN   \n",
        "chr1-100681587-A-G              NaN        NaN         NaN       NaN   \n",
        "\n",
        "                   SubmitterCategories VariationID  \n",
        "ind                                                 \n",
        "chr1-100340782-G-T                 NaN         NaN  \n",
        "chr1-100358107-A-G                 NaN         NaN  \n",
        "chr1-100591478-C-T                 NaN         NaN  \n",
        "chr1-100680410-C-T                 NaN         NaN  \n",
        "chr1-100681587-A-G                 NaN         NaN  \n",
        "\n",
        "[5 rows x 23 columns]"
       ]
      }
     ],
     "prompt_number": 12
    },
    {
     "cell_type": "code",
     "collapsed": false,
     "input": [],
     "language": "python",
     "metadata": {},
     "outputs": []
    }
   ],
   "metadata": {}
  }
 ]
}