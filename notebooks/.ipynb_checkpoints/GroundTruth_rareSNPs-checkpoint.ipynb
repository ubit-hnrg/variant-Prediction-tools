{
 "metadata": {
  "name": "",
  "signature": "sha256:dd270ea6934171f681acbdd6bb8322766c670861ec3f3edbfaba661d1167994a"
 },
 "nbformat": 3,
 "nbformat_minor": 0,
 "worksheets": [
  {
   "cells": [
    {
     "cell_type": "code",
     "collapsed": false,
     "input": [
      "%matplotlib inline\n",
      "from IPython.display import display, clear_output\n",
      "import pandas as pd\n",
      "import numpy as np\n",
      "import time\n",
      "import gc\n",
      "import warnings\n",
      "warnings.filterwarnings('ignore')\n"
     ],
     "language": "python",
     "metadata": {},
     "outputs": [],
     "prompt_number": 1
    },
    {
     "cell_type": "code",
     "collapsed": false,
     "input": [
      "benchmark_path = '/home/vpt/data/benchmark/supplementary-Table-S2-The-testing-missense-variants-of-benchmark-datasets.tsv'\n",
      "rare_snp_path = '/home/vpt/data/dbNSFP/dbNSFP4.0a/rare_gnomad_control_dbNSFP4.0a.csv.gz'\n",
      "\n",
      "\n",
      "## outputs\n",
      "rare_homoz_file = '/home/vpt/data/dbNSFP/dbNSFP4.0a/rare_homoz_dbNSFP4.0a.csv'"
     ],
     "language": "python",
     "metadata": {},
     "outputs": [],
     "prompt_number": 2
    },
    {
     "cell_type": "code",
     "collapsed": false,
     "input": [
      "benchmark = pd.read_csv(benchmark_path,sep = '\\t')\n"
     ],
     "language": "python",
     "metadata": {},
     "outputs": [],
     "prompt_number": 3
    },
    {
     "cell_type": "code",
     "collapsed": false,
     "input": [
      "def extract_rare_plus_homozigousis(in_f, out_f, size):\n",
      "    reader = pd.read_csv(in_f, chunksize=size,sep = '\\t')\n",
      "    df = []\n",
      "    t0 = time.time()\n",
      "    for k,chunk in enumerate(reader):\n",
      "        minutes = (time.time()-t0)/float(60)\n",
      "#        if k>=2:  #only for testing\n",
      "#            break    # only for testing\n",
      "        if k&(k-1)==0:\n",
      "            messaje = 'processed %s*%s rows. Elapsed, %s minutes'%(k+1,size,minutes)\n",
      "            display(messaje)\n",
      "\n",
      "        ii = chunk[['gnomAD_exomes_nhomalt','gnomAD_genomes_nhomalt']].sum(axis =1)>=1\n",
      "        rares = chunk[ii] \n",
      "        \n",
      "        if k==0:\n",
      "            rares.to_csv(out_f, index=False,sep='\\t') \n",
      "        else:\n",
      "            rares.to_csv(out_f, index=False, header=False, mode='a',sep='\\t')\n",
      "\n",
      "        df.append(rares)    \n",
      "        gc.collect()\n",
      "    df = pd.concat(df)\n",
      "    return(df)\n"
     ],
     "language": "python",
     "metadata": {},
     "outputs": [],
     "prompt_number": 4
    },
    {
     "cell_type": "code",
     "collapsed": false,
     "input": [
      "rh = extract_rare_plus_homozigousis(in_f=rare_snp_path,out_f = rare_homoz_file ,size = 100000)"
     ],
     "language": "python",
     "metadata": {},
     "outputs": [
      {
       "metadata": {},
       "output_type": "display_data",
       "text": [
        "'processed 1*100000 rows. Elapsed, 0.09494531552 minutes'"
       ]
      },
      {
       "metadata": {},
       "output_type": "display_data",
       "text": [
        "'processed 2*100000 rows. Elapsed, 0.194770081838 minutes'"
       ]
      },
      {
       "metadata": {},
       "output_type": "display_data",
       "text": [
        "'processed 3*100000 rows. Elapsed, 0.292533433437 minutes'"
       ]
      },
      {
       "metadata": {},
       "output_type": "display_data",
       "text": [
        "'processed 5*100000 rows. Elapsed, 0.4905930837 minutes'"
       ]
      },
      {
       "metadata": {},
       "output_type": "display_data",
       "text": [
        "'processed 9*100000 rows. Elapsed, 0.892078900337 minutes'"
       ]
      },
      {
       "metadata": {},
       "output_type": "display_data",
       "text": [
        "'processed 17*100000 rows. Elapsed, 1.69320106506 minutes'"
       ]
      },
      {
       "metadata": {},
       "output_type": "display_data",
       "text": [
        "'processed 33*100000 rows. Elapsed, 3.31146593491 minutes'"
       ]
      }
     ],
     "prompt_number": 5
    },
    {
     "cell_type": "code",
     "collapsed": false,
     "input": [
      "rh.shape"
     ],
     "language": "python",
     "metadata": {},
     "outputs": [
      {
       "metadata": {},
       "output_type": "pyout",
       "prompt_number": 6,
       "text": [
        "(101953, 377)"
       ]
      }
     ],
     "prompt_number": 6
    },
    {
     "cell_type": "markdown",
     "metadata": {},
     "source": [
      "## Filter criteria"
     ]
    },
    {
     "cell_type": "code",
     "collapsed": false,
     "input": [
      "benchmark = pd.read_csv(benchmark_path,sep = '\\t')\n",
      "benchmark.shape"
     ],
     "language": "python",
     "metadata": {},
     "outputs": [
      {
       "metadata": {},
       "output_type": "pyout",
       "prompt_number": 7,
       "text": [
        "(11995, 8)"
       ]
      }
     ],
     "prompt_number": 7
    },
    {
     "cell_type": "code",
     "collapsed": false,
     "input": [
      "benchmark['Chr37'] = benchmark.Chr.str.strip('chr')\n",
      "ind_bench = benchmark.Chr37.map(str) + '-' + benchmark.Start.map(str) +'-' + benchmark.Ref.map(str) +'-' + benchmark.Alt.map(str)\n",
      "benchmark.set_index(ind_bench,inplace = True)\n",
      "\n",
      "\n",
      "ind_rh =rh.hg19_chr.map(str).str.strip('.0') + '-' + rh[u'hg19_pos(1-based)'].map(str).str.strip('.0') +'-' + rh.ref.map(str) +'-' + rh.alt.map(str)\n",
      "rh.set_index(ind_rh,inplace = True)"
     ],
     "language": "python",
     "metadata": {},
     "outputs": [],
     "prompt_number": 8
    },
    {
     "cell_type": "code",
     "collapsed": false,
     "input": [
      "print(len(np.intersect1d(ind_bench,ind_rh)))\n",
      "benchmark[benchmark.index.isin(ind_rh)].Label.value_counts()\n"
     ],
     "language": "python",
     "metadata": {},
     "outputs": [
      {
       "output_type": "stream",
       "stream": "stdout",
       "text": [
        "482\n"
       ]
      },
      {
       "metadata": {},
       "output_type": "pyout",
       "prompt_number": 9,
       "text": [
        "Benign               430\n",
        "Pathogenic            16\n",
        "asd                   16\n",
        "control               16\n",
        "not pathogenic         3\n",
        "Likely pathogenic      2\n",
        "Name: Label, dtype: int64"
       ]
      }
     ],
     "prompt_number": 9
    },
    {
     "cell_type": "markdown",
     "metadata": {},
     "source": [
      "### Quito Benchmark de las benignas\n",
      "* se van unas 482 variantes"
     ]
    },
    {
     "cell_type": "code",
     "collapsed": false,
     "input": [
      "rare_control_hom_notBench = rh[~rh.index.isin(benchmark.index)]\n",
      "rare_control_hom_notBench.shape"
     ],
     "language": "python",
     "metadata": {},
     "outputs": [
      {
       "metadata": {},
       "output_type": "pyout",
       "prompt_number": 10,
       "text": [
        "(101468, 377)"
       ]
      }
     ],
     "prompt_number": 10
    },
    {
     "cell_type": "markdown",
     "metadata": {},
     "source": [
      "### veo la distribucion de clinvar en las raras putativamente benignas\n",
      "* se ve que hay que depurar sacando todo lo que tenga algo de pathogenicidad "
     ]
    },
    {
     "cell_type": "code",
     "collapsed": false,
     "input": [
      "rare_control_hom_notBench.clinvar_clnsig.value_counts(dropna= False).head(10)"
     ],
     "language": "python",
     "metadata": {},
     "outputs": [
      {
       "metadata": {},
       "output_type": "pyout",
       "prompt_number": 13,
       "text": [
        "NaN                                             93686\n",
        "Uncertain_significance                           2821\n",
        "Conflicting_interpretations_of_pathogenicity     1818\n",
        "Likely_benign                                    1567\n",
        "Benign/Likely_benign                              588\n",
        "Benign                                            497\n",
        "not_provided                                      165\n",
        "Pathogenic                                        155\n",
        "Likely_pathogenic                                  70\n",
        "Pathogenic/Likely_pathogenic                       28\n",
        "Name: clinvar_clnsig, dtype: int64"
       ]
      }
     ],
     "prompt_number": 13
    },
    {
     "cell_type": "markdown",
     "metadata": {},
     "source": [
      "### Quito clinvar pathogenicas/likely pathogenicas \n",
      "* se van unas 2112 variantes"
     ]
    },
    {
     "cell_type": "code",
     "collapsed": false,
     "input": [
      "patho = ['Conflicting_interpretations_of_pathogenicity','Pathogenic','Likely_pathogenic',\\\n",
      "        'Pathogenic/Likely_pathogenic','Conflicting_interpretations_of_pathogenicity,_risk_factor',\\\n",
      "        'risk_factor','Pathogenic,_risk_factor','Conflicting_interpretations_of_pathogenicity,_other',\\\n",
      "        'Pathogenic/Likely_pathogenic,_risk_factor','Pathogenic,_other','Pathogenic,_protective',\\\n",
      "        'Pathogenic/Likely_pathogenic,_other','Likely_pathogenic,_risk_factor']\n",
      "        \n",
      "rare_control_hom_notBench_dropout_pathogenicCLinvar = rare_control_hom_notBench[~rare_control_hom_notBench.clinvar_clnsig.isin(patho)]\n",
      "rare_control_hom_notBench_dropout_pathogenicCLinvar.shape"
     ],
     "language": "python",
     "metadata": {},
     "outputs": [
      {
       "metadata": {},
       "output_type": "pyout",
       "prompt_number": 14,
       "text": [
        "(99356, 377)"
       ]
      }
     ],
     "prompt_number": 14
    },
    {
     "cell_type": "code",
     "collapsed": false,
     "input": [
      "rare_putative_beningns = rare_control_hom_notBench_dropout_pathogenicCLinvar.copy()\n",
      "rare_putative_beningns.to_csv('/home/vpt/data/dbNSFP/dbNSFP4.0a/rare_putative_beningns.tsv',sep = '\\t',index = False)"
     ],
     "language": "python",
     "metadata": {},
     "outputs": [],
     "prompt_number": 15
    },
    {
     "cell_type": "markdown",
     "metadata": {},
     "source": [
      "#Pathogenic "
     ]
    },
    {
     "cell_type": "code",
     "collapsed": false,
     "input": [
      "patho = ['Pathogenic','Likely_pathogenic','Pathogenic/Likely_pathogenic']\n",
      "\n",
      "input_file = '/home/vpt/data/dbNSFP/dbNSFP4.0a/dbNSFP4.0a.txt.gz'\n",
      "output_file = '/home/vpt/data/dbNSFP/dbNSFP4.0a/pathogenic_clinvar_dbnsfp.tsv'\n",
      "\n",
      "\n",
      "def extract_clinvarRareVariants_from_dbNSFP(in_f, out_f, size ,freqcols = ['gnomAD_exomes_POPMAX_AF','gnomAD_genomes_POPMAX_AF']):\n",
      "    reader = pd.read_table(in_f, chunksize=size,na_values = '.')\n",
      "    \n",
      "    pathogenic_clinvar = []\n",
      "    t0 = time.time()\n",
      "    for k,chunk in enumerate(reader):\n",
      "        minutes = (time.time()-t0)/float(60)\n",
      "        if k&(k-1)==0:\n",
      "            print 'processed %s*%s rows. Elapsed, %s minutes'%(k+1,size,minutes)\n",
      "            #if k>3:  #only for check\n",
      "            #    break  #only for check\n",
      "        ii = chunk['clinvar_clnsig'].isin(patho)\n",
      "              \n",
      "        patho_clinvar = chunk[ii] \n",
      "        max_freq_observed = patho_clinvar[freqcols].max(axis=1)\n",
      "        patho_clinvar['max_freq_observed'] =P  max_freq_observed\n",
      "        pathogenic_clinvar.append(patho_clinvar)\n",
      "       \n",
      "        if k==0:\n",
      "            patho_clinvar.to_csv(out_f, index=False,sep='\\t') \n",
      "        else:\n",
      "            patho_clinvar.to_csv(out_f, index=False, header=False, mode='a',sep='\\t')\n",
      "        gc.collect()\n",
      "    pathogenic_clinvar = pd.concat(pathogenic_clinvar)\n",
      "    return(pathogenic_clinvar)\n"
     ],
     "language": "python",
     "metadata": {},
     "outputs": [],
     "prompt_number": 16
    },
    {
     "cell_type": "markdown",
     "metadata": {},
     "source": [
      "### Variantes en dbNSFP con clinvar Pathogenico - Likely Pathog - o Pathogenico/Likely Pathog:\n",
      "* 56871 \n",
      "\n",
      "#### Quito unas 72 variantes (0.005 de las que tienen AF asignada, o un 0.0012 del total) Quedan\n",
      "* 56799\n",
      "\n",
      "#### Quito el benchmark (se van unas 2242) Quedan:\n",
      "* 54542"
     ]
    },
    {
     "cell_type": "code",
     "collapsed": false,
     "input": [
      "#patho_clinvar = extract_clinvarRareVariants_from_dbNSFP(in_f = input_file, out_f = output_file,size = 1000000)\n",
      "patho_clinvar = pd.read_csv('/home/vpt/data/dbNSFP/dbNSFP4.0a/pathogenic_clinvar_dbnsfp.tsv',sep = '\\t')"
     ],
     "language": "python",
     "metadata": {},
     "outputs": [],
     "prompt_number": 19
    },
    {
     "cell_type": "code",
     "collapsed": false,
     "input": [
      "print patho_clinvar.shape\n",
      "patho_clinvar.clinvar_clnsig.value_counts(dropna = False)"
     ],
     "language": "python",
     "metadata": {},
     "outputs": [
      {
       "output_type": "stream",
       "stream": "stdout",
       "text": [
        "(56871, 377)\n"
       ]
      },
      {
       "metadata": {},
       "output_type": "pyout",
       "prompt_number": 20,
       "text": [
        "Pathogenic                      35441\n",
        "Likely_pathogenic               18383\n",
        "Pathogenic/Likely_pathogenic     3047\n",
        "Name: clinvar_clnsig, dtype: int64"
       ]
      }
     ],
     "prompt_number": 20
    },
    {
     "cell_type": "code",
     "collapsed": false,
     "input": [
      "patho_clinvar.max_freq_observed.describe()"
     ],
     "language": "python",
     "metadata": {},
     "outputs": [
      {
       "metadata": {},
       "output_type": "pyout",
       "prompt_number": 21,
       "text": [
        "count    14882.000000\n",
        "mean         0.000632\n",
        "std          0.011478\n",
        "min          0.000000\n",
        "25%          0.000026\n",
        "50%          0.000062\n",
        "75%          0.000130\n",
        "max          0.742292\n",
        "Name: max_freq_observed, dtype: float64"
       ]
      }
     ],
     "prompt_number": 21
    },
    {
     "cell_type": "code",
     "collapsed": false,
     "input": [
      "patho_clinvar.max_freq_observed.quantile(0.995)"
     ],
     "language": "python",
     "metadata": {},
     "outputs": [
      {
       "metadata": {},
       "output_type": "pyout",
       "prompt_number": 22,
       "text": [
        "0.009598547569999932"
       ]
      }
     ],
     "prompt_number": 22
    },
    {
     "cell_type": "code",
     "collapsed": false,
     "input": [
      "patho_clinvar[(patho_clinvar.max_freq_observed<0.01)|(patho_clinvar.max_freq_observed.isnull())].shape\n",
      "rare_patho_clinvar =  patho_clinvar[(patho_clinvar.max_freq_observed<0.01)|(patho_clinvar.max_freq_observed.isnull())]\n"
     ],
     "language": "python",
     "metadata": {},
     "outputs": [],
     "prompt_number": 23
    },
    {
     "cell_type": "code",
     "collapsed": false,
     "input": [
      "rare_patho_clinvar.shape"
     ],
     "language": "python",
     "metadata": {},
     "outputs": [
      {
       "metadata": {},
       "output_type": "pyout",
       "prompt_number": 24,
       "text": [
        "(56799, 377)"
       ]
      }
     ],
     "prompt_number": 24
    },
    {
     "cell_type": "markdown",
     "metadata": {},
     "source": [
      "## Remove benchmark"
     ]
    },
    {
     "cell_type": "code",
     "collapsed": false,
     "input": [
      "ind_rare_patho_clinvar =rare_patho_clinvar.hg19_chr.map(str).str.strip('.0') + '-' + rare_patho_clinvar[u'hg19_pos(1-based)'].map(str).str.strip('.0') +'-' + rare_patho_clinvar.ref.map(str) +'-' + rare_patho_clinvar.alt.map(str)\n",
      "rare_patho_clinvar.set_index(ind_rare_patho_clinvar,inplace = True)"
     ],
     "language": "python",
     "metadata": {},
     "outputs": [],
     "prompt_number": 25
    },
    {
     "cell_type": "code",
     "collapsed": false,
     "input": [
      "print(len(np.intersect1d(ind_bench,ind_rare_patho_clinvar)))\n",
      "benchmark[benchmark.index.isin(ind_rare_patho_clinvar)].Label.value_counts()  # ok, hay consistencia. "
     ],
     "language": "python",
     "metadata": {},
     "outputs": [
      {
       "output_type": "stream",
       "stream": "stdout",
       "text": [
        "2242\n"
       ]
      },
      {
       "metadata": {},
       "output_type": "pyout",
       "prompt_number": 26,
       "text": [
        "Pathogenic                      1702\n",
        "Likely pathogenic                348\n",
        "Pathogenic/Likely pathogenic     160\n",
        "non-functional                   151\n",
        "asd                               11\n",
        "control                            5\n",
        "not pathogenic                     5\n",
        "pathogenic                         3\n",
        "functional                         3\n",
        "Name: Label, dtype: int64"
       ]
      }
     ],
     "prompt_number": 26
    },
    {
     "cell_type": "code",
     "collapsed": false,
     "input": [
      "file_pathogenicas = '/home/vpt/data/dbNSFP/dbNSFP4.0a/rare_patho_clinvar_notBenchmark.tsv'\n",
      "rare_patho_clinvar_notBench = rare_patho_clinvar[~rare_patho_clinvar.index.isin(benchmark.index)]\n",
      "rare_patho_clinvar_notBench.to_csv(file_pathogenicas,sep ='\\t',index = True)\n",
      "rare_patho_clinvar_notBench.shape"
     ],
     "language": "python",
     "metadata": {},
     "outputs": [
      {
       "metadata": {},
       "output_type": "pyout",
       "prompt_number": 27,
       "text": [
        "(54542, 377)"
       ]
      }
     ],
     "prompt_number": 27
    },
    {
     "cell_type": "code",
     "collapsed": false,
     "input": [
      "rare_patho_clinvar_notBench.to_csv(file_pathogenicas,sep ='\\t',index = True)\n",
      "rare_putative_beningns.to_csv('/home/vpt/data/dbNSFP/dbNSFP4.0a/rare_putative_beningns.tsv',sep = '\\t',index = True)"
     ],
     "language": "python",
     "metadata": {},
     "outputs": [],
     "prompt_number": 29
    },
    {
     "cell_type": "markdown",
     "metadata": {},
     "source": [
      "### GroundTruth"
     ]
    },
    {
     "cell_type": "code",
     "collapsed": false,
     "input": [
      "rare_patho_clinvar_notBench.clinvar_clnsig.value_counts()"
     ],
     "language": "python",
     "metadata": {},
     "outputs": [
      {
       "metadata": {},
       "output_type": "pyout",
       "prompt_number": 98,
       "text": [
        "Pathogenic                      33414\n",
        "Likely_pathogenic               17735\n",
        "Pathogenic/Likely_pathogenic     2810\n",
        "Name: clinvar_clnsig, dtype: int64"
       ]
      }
     ],
     "prompt_number": 98
    },
    {
     "cell_type": "code",
     "collapsed": false,
     "input": [
      "rare_putative_beningns = pd.read_csv('/home/vpt/data/dbNSFP/dbNSFP4.0a/rare_putative_beningns.tsv',sep = '\\t',index_col=[0])\n",
      "print rare_putative_beningns.shape\n",
      "rare_putative_beningns = rare_putative_beningns.reset_index().sort_values(by='clinvar_clnsig').drop_duplicates(['index'])\n",
      "rare_putative_beningns.set_index(['index'],inplace = True)\n",
      "rare_putative_beningns['GT'] = 0\n",
      "print rare_putative_beningns.shape\n",
      "\n",
      "\n",
      "rare_patho_clinvar_notBench = pd.read_csv('/home/vpt/data/dbNSFP/dbNSFP4.0a/rare_patho_clinvar_notBenchmark.tsv',sep = '\\t',index_col=[0])\n",
      "print rare_patho_clinvar_notBench.shape\n",
      "rare_patho_clinvar_notBench = rare_patho_clinvar_notBench.reset_index().sort_values(by='clinvar_clnsig').drop_duplicates(['index'])\n",
      "rare_patho_clinvar_notBench.set_index(['index'],inplace = True)\n",
      "print rare_patho_clinvar_notBench.shape\n",
      "rare_patho_clinvar_notBench['GT'] = 1\n"
     ],
     "language": "python",
     "metadata": {},
     "outputs": [
      {
       "output_type": "stream",
       "stream": "stdout",
       "text": [
        "(99356, 377)\n",
        "(98387, 378)"
       ]
      },
      {
       "output_type": "stream",
       "stream": "stdout",
       "text": [
        "\n",
        "(54542, 377)"
       ]
      },
      {
       "output_type": "stream",
       "stream": "stdout",
       "text": [
        "\n",
        "(53959, 377)"
       ]
      },
      {
       "output_type": "stream",
       "stream": "stdout",
       "text": [
        "\n"
       ]
      }
     ],
     "prompt_number": 101
    },
    {
     "cell_type": "code",
     "collapsed": false,
     "input": [
      "groundTruth = pd.concat([rare_patho_clinvar_notBench,rare_putative_beningns])\n",
      "print groundTruth.shape\n",
      "groundTruth = groundTruth[groundTruth.index != '1-14975578-C-T']  # no entiendo por que esta berga aparece en ambos datasets, i.e. putati Benigno y Pathogenicas. \n",
      "print groundTruth.shape"
     ],
     "language": "python",
     "metadata": {},
     "outputs": [
      {
       "output_type": "stream",
       "stream": "stdout",
       "text": [
        "(152346, 378)\n",
        "(152344, 378)"
       ]
      },
      {
       "output_type": "stream",
       "stream": "stdout",
       "text": [
        "\n"
       ]
      }
     ],
     "prompt_number": 102
    },
    {
     "cell_type": "code",
     "collapsed": false,
     "input": [
      "groundTruth.to_csv('/home/vpt/data/dbNSFP/dbNSFP4.0a/rare_ground_truth.tsv',sep = '\\t')"
     ],
     "language": "python",
     "metadata": {},
     "outputs": [],
     "prompt_number": 103
    },
    {
     "cell_type": "code",
     "collapsed": false,
     "input": [],
     "language": "python",
     "metadata": {},
     "outputs": []
    },
    {
     "cell_type": "code",
     "collapsed": false,
     "input": [],
     "language": "python",
     "metadata": {},
     "outputs": []
    },
    {
     "cell_type": "code",
     "collapsed": false,
     "input": [
      "#se ve como algunas variantes no tienen mapeo al genoma hg19 (pero si en el 38)\n",
      "rare_patho_clinvar_notBench.index.value_counts().head()"
     ],
     "language": "python",
     "metadata": {},
     "outputs": [
      {
       "metadata": {},
       "output_type": "pyout",
       "prompt_number": 59,
       "text": [
        "nan-nan-G-A       8\n",
        "nan-nan-C-A       5\n",
        "nan-nan-A-G       5\n",
        "9-21970901-C-A    4\n",
        "nan-nan-C-T       4\n",
        "dtype: int64"
       ]
      }
     ],
     "prompt_number": 59
    },
    {
     "cell_type": "code",
     "collapsed": false,
     "input": [],
     "language": "python",
     "metadata": {},
     "outputs": [
      {
       "metadata": {},
       "output_type": "pyout",
       "prompt_number": 75,
       "text": [
        "True"
       ]
      }
     ],
     "prompt_number": 75
    },
    {
     "cell_type": "code",
     "collapsed": false,
     "input": [
      "rare_control_hom_notBench.loc['21-35821826-C-T','clinvar_clnsig']"
     ],
     "language": "python",
     "metadata": {},
     "outputs": [
      {
       "metadata": {},
       "output_type": "pyout",
       "prompt_number": 73,
       "text": [
        "21-35821826-C-T                       NaN\n",
        "21-35821826-C-T    Uncertain_significance\n",
        "Name: clinvar_clnsig, dtype: object"
       ]
      }
     ],
     "prompt_number": 73
    },
    {
     "cell_type": "code",
     "collapsed": false,
     "input": [],
     "language": "python",
     "metadata": {},
     "outputs": []
    }
   ],
   "metadata": {}
  }
 ]
}