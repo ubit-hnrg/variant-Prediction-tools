{
 "metadata": {
  "name": "",
  "signature": "sha256:99ffc9e6bb62e06c159c68f26bbd22e553bc7a414d91511e399d1383507cd3a8"
 },
 "nbformat": 3,
 "nbformat_minor": 0,
 "worksheets": [
  {
   "cells": [
    {
     "cell_type": "code",
     "collapsed": false,
     "input": [
      "%matplotlib inline\n",
      "import pandas as pd\n",
      "import numpy as np\n",
      "\n",
      "import time\n",
      "import gc\n",
      "\n",
      "import scipy.stats as stats\n"
     ],
     "language": "python",
     "metadata": {},
     "outputs": [],
     "prompt_number": 54
    },
    {
     "cell_type": "code",
     "collapsed": false,
     "input": [
      "def extract_rareVariants_from_dbNSFP(in_f, out_f, size, freqcols , max_frequency_threshold):\n",
      "    reader = pd.read_table(in_f, chunksize=size,na_values = '.')\n",
      "    \n",
      "    t0 = time.time()\n",
      "    for k,chunk in enumerate(reader):\n",
      "        minutes = (time.time()-t0)/float(60)\n",
      "        if k&(k-1)==0:\n",
      "            print 'processed %s*%s rows. Elapsed, %s minutes'%(k+1,size,minutes)\n",
      "        ii = (~chunk[freqcols].isna()).sum(axis=1)>0\n",
      "        chunkf = chunk[ii] \n",
      "        max_freq_observed = chunkf[freqcols].max(axis=1)\n",
      "        chunkf['max_freq_observed'] =  max_freq_observed\n",
      "        \n",
      "        # keep variants with max_freq_observed under threshold  \n",
      "        # ALSO exclude those with maximum freq = 0.0000 (only for sanity)\n",
      "        flag_rare_variant =  (max_freq_observed < max_frequency_threshold)&(max_freq_observed >0 )\n",
      "        rares = chunkf[flag_rare_variant]\n",
      "\n",
      "        if k==0:\n",
      "            rares.to_csv(out_f, index=False,sep='\\t') \n",
      "        else:\n",
      "            rares.to_csv(out_f, index=False, header=False, mode='a',sep='\\t')\n",
      "        gc.collect()\n",
      "    return(None)\n"
     ],
     "language": "python",
     "metadata": {},
     "outputs": [],
     "prompt_number": 2
    },
    {
     "cell_type": "code",
     "collapsed": false,
     "input": [
      "input_file = '../data/dbNSFP/dbNSFP4.0a/rare_gnomad_control_dbNSFP4.0a.csv.gz'\n",
      "field_list = ['gnomAD_exomes_controls_POPMAX_AF','gnomAD_genomes_controls_POPMAX_AF']\n",
      "#max_frequency_threshold  = 0.01"
     ],
     "language": "python",
     "metadata": {},
     "outputs": [],
     "prompt_number": 3
    },
    {
     "cell_type": "markdown",
     "metadata": {},
     "source": [
      "#load rare variants according to control genomAD populations"
     ]
    },
    {
     "cell_type": "code",
     "collapsed": false,
     "input": [
      "rares = pd.read_table(input_file,usecols = field_list+['gnomAD_exomes_nhomalt','gnomAD_genomes_nhomalt',\\\n",
      "                                                       'clinvar_review','clinvar_clnsig','clinvar_id'])\n",
      "rare_test = pd.read_table(input_file,nrows = 10000)\n"
     ],
     "language": "python",
     "metadata": {},
     "outputs": [
      {
       "output_type": "stream",
       "stream": "stderr",
       "text": [
        "/usr/lib/python2.7/dist-packages/IPython/core/interactiveshell.py:2741: DtypeWarning: Columns (364,366) have mixed types. Specify dtype option on import or set low_memory=False.\n",
        "  interactivity=interactivity, compiler=compiler)\n",
        "/usr/lib/python2.7/dist-packages/IPython/core/interactiveshell.py:2741: DtypeWarning: Columns (80,225,298,364,365,366,367,368,369,370,371,373,374) have mixed types. Specify dtype option on import or set low_memory=False.\n",
        "  interactivity=interactivity, compiler=compiler)\n"
       ]
      }
     ],
     "prompt_number": 4
    },
    {
     "cell_type": "markdown",
     "metadata": {},
     "source": [
      "## count Nulls in used frequency fields. \n",
      "* 26.7M Nulls in any of Freq fields\n",
      "* (0.9M without nulls)"
     ]
    },
    {
     "cell_type": "code",
     "collapsed": false,
     "input": [
      "rares[['gnomAD_exomes_controls_POPMAX_AF','gnomAD_genomes_controls_POPMAX_AF']].isnull().sum(axis=1).value_counts()"
     ],
     "language": "python",
     "metadata": {},
     "outputs": [
      {
       "metadata": {},
       "output_type": "pyout",
       "prompt_number": 5,
       "text": [
        "1    2679791\n",
        "0     902851\n",
        "dtype: int64"
       ]
      }
     ],
     "prompt_number": 5
    },
    {
     "cell_type": "markdown",
     "metadata": {},
     "source": [
      "# Homozigousis count\n",
      "* 3.4 M Homz count = 0 \n",
      "* 0.1 M Homz count >=1\n",
      "* 0.03 M Homz count >=2\n",
      "* 0.017 M Homz count >=3\n"
     ]
    },
    {
     "cell_type": "code",
     "collapsed": false,
     "input": [
      "## WARNING!! No se si tenemos que sumar o extraer el maximo, eso depende de si hay interseccion en los individuos control\n",
      "#de gnomad EXOMES Y GENOMES: aca sumo, ergo asumo que no hay intersecci\u00f3n\n",
      "nhomalt = rares[['gnomAD_exomes_nhomalt','gnomAD_genomes_nhomalt']].sum(axis =1)\n"
     ],
     "language": "python",
     "metadata": {},
     "outputs": [],
     "prompt_number": 6
    },
    {
     "cell_type": "code",
     "collapsed": false,
     "input": [
      "print (nhomalt<1).sum()\n",
      "print (nhomalt>=1).sum()\n",
      "print (nhomalt>=2).sum()\n",
      "print (nhomalt>=3).sum()\n"
     ],
     "language": "python",
     "metadata": {},
     "outputs": [
      {
       "output_type": "stream",
       "stream": "stdout",
       "text": [
        "3480689\n",
        "101953\n",
        "31392"
       ]
      },
      {
       "output_type": "stream",
       "stream": "stdout",
       "text": [
        "\n",
        "17291\n"
       ]
      }
     ],
     "prompt_number": 8
    },
    {
     "cell_type": "code",
     "collapsed": false,
     "input": [
      "nhomalt.hist(bins = 100,log='y')"
     ],
     "language": "python",
     "metadata": {},
     "outputs": [
      {
       "metadata": {},
       "output_type": "pyout",
       "prompt_number": 7,
       "text": [
        "<matplotlib.axes._subplots.AxesSubplot at 0x7f8d63f2c850>"
       ]
      },
      {
       "metadata": {},
       "output_type": "display_data",
       "png": "[encoded data removed]",
       "text": [
        "<matplotlib.figure.Figure at 0x7f8d8cfdbc50>"
       ]
      }
     ],
     "prompt_number": 7
    },
    {
     "cell_type": "markdown",
     "metadata": {},
     "source": [
      "## Rare variants with clinvar significance\n",
      "####  Raras + clinvar : 88653\n",
      "* 80419 --> nhomalt == 0\n",
      "* 8234 --> nhomalt >=1\n",
      "  ----------\n",
      "* 3353 --> nhomalt >=2\n",
      "* 1911 --> nhomalt >=3\n",
      "\n",
      "#### Raras + clinvar in Pathog or Beningn: 18827\n",
      "* Pathog    10009\n",
      "* Benign     8818\n",
      "* 15.6 K --> nhomalt == 0\n",
      "* 3.2 K  --> nhomalt >=1\n",
      "\n",
      "\n",
      "#### Pathog inclusion:\n",
      "* Pathogenic, Pathogenic/Likely_pathogenic\n",
      "* Pathogenic/Likely_pathogenic,_risk_factor ,\n",
      "* Pathogenic/Likely_pathogenic,_other\n",
      "* Pathogenic,_drug_response'\n",
      "* Likely_pathogenic\n",
      "\n",
      "#### Benign inclusion:\n",
      "* Benign\n",
      "* Benign/Likely_benign \n",
      "* Likely_benign'\n",
      "\n",
      "| | clnsig == Benign        | clnsig == Pathog  |\n",
      "| ------------- |:-------------:| -----:|\n",
      "| clinvar_PB_nhomalt ==0      | 5859 |\t9743 |\n",
      "| clinvar_PB_nhomalt >=1      | 2959 |\t**266** |\n",
      "\n",
      "Odds ratio de esta tabla: 0.054, p-value=0 (hacer en R para mayor resoluci\u00f3n)\n",
      "--> *** Osea, tener al menos una observaci\u00f3n nhomalt baja significativamente el riesgo de colisionar con una variannte patog\u00e9nica (seg\u00fan clinvar). ***\n",
      "\n",
      "Fissher\n",
      "Optional/pending restrict Benign /Pathog to revivewed or multiple submisions without conflicts.\n"
     ]
    },
    {
     "cell_type": "code",
     "collapsed": false,
     "input": [
      "clinvar_rare_variants = rares[~rares['clinvar_clnsig'].isnull().values]\n",
      "clinvar_rare_variants.shape[0]"
     ],
     "language": "python",
     "metadata": {},
     "outputs": [
      {
       "metadata": {},
       "output_type": "pyout",
       "prompt_number": 13,
       "text": [
        "88653"
       ]
      }
     ],
     "prompt_number": 13
    },
    {
     "cell_type": "code",
     "collapsed": false,
     "input": [
      "clinvar_rare_variants[['gnomAD_exomes_controls_POPMAX_AF',\\\n",
      "                       'gnomAD_genomes_controls_POPMAX_AF']].isnull().sum(axis=1).value_counts()"
     ],
     "language": "python",
     "metadata": {},
     "outputs": [
      {
       "metadata": {},
       "output_type": "pyout",
       "prompt_number": 10,
       "text": [
        "0    49728\n",
        "1    38925\n",
        "dtype: int64"
       ]
      }
     ],
     "prompt_number": 10
    },
    {
     "cell_type": "code",
     "collapsed": false,
     "input": [
      "clinvar_nhomalt = clinvar_rare_variants[['gnomAD_exomes_nhomalt','gnomAD_genomes_nhomalt']].sum(axis =1)"
     ],
     "language": "python",
     "metadata": {},
     "outputs": [],
     "prompt_number": 11
    },
    {
     "cell_type": "code",
     "collapsed": false,
     "input": [
      "#print (clinvar_nhomalt.isnull()).sum()\n",
      "print (clinvar_nhomalt<1).sum()\n",
      "print (clinvar_nhomalt>=1).sum()\n",
      "print (clinvar_nhomalt>=2).sum()\n",
      "print (clinvar_nhomalt>=3).sum()\n",
      "\n",
      "#clinvar_nhomalt[(clinvar_nhomalt<1)]\n",
      "#print (clinvar_nhomalt>=1).sum()\n"
     ],
     "language": "python",
     "metadata": {},
     "outputs": [
      {
       "output_type": "stream",
       "stream": "stdout",
       "text": [
        "80419\n",
        "8234\n",
        "3353\n",
        "1911\n"
       ]
      }
     ],
     "prompt_number": 22
    },
    {
     "cell_type": "code",
     "collapsed": false,
     "input": [
      "patho_benign={'Pathogenic':'P','Pathogenic/Likely_pathogenic':'P','Pathogenic/Likely_pathogenic,_risk_factor':'P',\n",
      "               'Pathogenic/Likely_pathogenic,_other':'P','Pathogenic,_drug_response':'P',\n",
      "               'Likely_pathogenic':'P','Benign':'B','Benign/Likely_benign':'B','Likely_benign':'B'}\n"
     ],
     "language": "python",
     "metadata": {},
     "outputs": [],
     "prompt_number": 49
    },
    {
     "cell_type": "code",
     "collapsed": false,
     "input": [
      "clinvar_rare_variants.clinvar_clnsig.replace(patho_benign,inplace = True)\n",
      "clinvar_rare_variants_PB = clinvar_rare_variants[clinvar_rare_variants.clinvar_clnsig.isin(['P','B'])]\n"
     ],
     "language": "python",
     "metadata": {},
     "outputs": [],
     "prompt_number": 50
    },
    {
     "cell_type": "code",
     "collapsed": false,
     "input": [
      "clinvar_rare_variants_PB.clinvar_clnsig.value_counts()"
     ],
     "language": "python",
     "metadata": {},
     "outputs": [
      {
       "metadata": {},
       "output_type": "pyout",
       "prompt_number": 51,
       "text": [
        "P    10009\n",
        "B     8818\n",
        "Name: clinvar_clnsig, dtype: int64"
       ]
      }
     ],
     "prompt_number": 51
    },
    {
     "cell_type": "code",
     "collapsed": false,
     "input": [
      "clinvar_PB_nhomalt = clinvar_rare_variants_PB[['gnomAD_exomes_nhomalt','gnomAD_genomes_nhomalt']].sum(axis =1)\n",
      "clinvar_rare_variants_PB['clinvar_PB_nhomalt'] = (clinvar_rare_variants_PB[['gnomAD_exomes_nhomalt',\n",
      "                                                                           'gnomAD_genomes_nhomalt']].sum(axis =1)>=1)+0\n",
      "\n",
      "print (clinvar_PB_nhomalt<1).sum()\n",
      "print (clinvar_PB_nhomalt>=1).sum()\n",
      "print (clinvar_PB_nhomalt>=2).sum()\n",
      "print (clinvar_PB_nhomalt>=3).sum()"
     ],
     "language": "python",
     "metadata": {},
     "outputs": [
      {
       "output_type": "stream",
       "stream": "stdout",
       "text": [
        "15602\n",
        "3225\n",
        "1673\n",
        "1028\n"
       ]
      }
     ],
     "prompt_number": 52
    },
    {
     "cell_type": "markdown",
     "metadata": {},
     "source": [
      "conting = pd.crosstab(clinvar_rare_variants_PB['clinvar_PB_nhomalt'], clinvar_rare_variants_PB['clinvar_clnsig'])\n",
      "conting"
     ]
    },
    {
     "cell_type": "code",
     "collapsed": false,
     "input": [
      "oddsratio, pvalue = stats.fisher_exact(conting.values)\n",
      "print oddsratio, pvalue"
     ],
     "language": "python",
     "metadata": {},
     "outputs": [
      {
       "output_type": "stream",
       "stream": "stdout",
       "text": [
        "0.05405893268421203 0.0\n"
       ]
      }
     ],
     "prompt_number": 56
    },
    {
     "cell_type": "code",
     "collapsed": false,
     "input": [
      "g, p, dof, expctd =stats.chi2_contingency(conting.values, lambda_=\"log-likelihood\")\n",
      "#g, p, dof, expctd =stats.chi2_contingency(conting.values)\n",
      "print g,p"
     ],
     "language": "python",
     "metadata": {},
     "outputs": [
      {
       "output_type": "stream",
       "stream": "stdout",
       "text": [
        "3532.7519339962273 0.0\n"
       ]
      }
     ],
     "prompt_number": 69
    },
    {
     "cell_type": "markdown",
     "metadata": {},
     "source": [
      "## Whole dbNSFP & clinvar\n",
      "-------------------------------\n",
      "### Exploro asociacion entre estar y no estar en clinvar y estar o no definida como rare control variant.\n",
      "\n",
      "####pendiente: escribir el cuadro de contingencia y el test de fisher"
     ]
    },
    {
     "cell_type": "code",
     "collapsed": false,
     "input": [
      "f = '../data/dbNSFP/dbNSFP4.0a/dbNSFP4.0a.txt.gz'\n",
      "clinvar = pd.read_table(f,usecols = ['clinvar_clnsig'])"
     ],
     "language": "python",
     "metadata": {},
     "outputs": [],
     "prompt_number": 79
    },
    {
     "cell_type": "markdown",
     "metadata": {},
     "source": [
      "* clinvar in dbNSFP = total dbNSFP - NotClinvar in dbNSFP"
     ]
    },
    {
     "cell_type": "code",
     "collapsed": false,
     "input": [
      "vc = clinvar.clinvar_clnsig.value_counts(dropna = False)\n",
      "n= clinvar.shape[0]-vc[0] ## vc[0] son los '.', es decir todas las variantes dbNSFP que no machean con clinvar\n",
      "print 'intersection clinvar dbNSFP: %s'%n"
     ],
     "language": "python",
     "metadata": {},
     "outputs": [
      {
       "output_type": "stream",
       "stream": "stdout",
       "text": [
        "intersection clinvar dbNSFP: 227054\n"
       ]
      }
     ],
     "prompt_number": 107
    },
    {
     "cell_type": "code",
     "collapsed": false,
     "input": [
      "m = n - clinvar_rare_variants.shape[0]\n",
      "print 'clinvar dbNSFP no raras en controles: %s'%m"
     ],
     "language": "python",
     "metadata": {},
     "outputs": [
      {
       "output_type": "stream",
       "stream": "stdout",
       "text": [
        "clinvar dbNSFP no raras en controles: 138401\n"
       ]
      }
     ],
     "prompt_number": 108
    },
    {
     "cell_type": "markdown",
     "metadata": {},
     "source": [
      "##### notar que 'no raras en controles implica:'\n",
      "* 1) no se observan en controles, \u00f3 bien,\n",
      "*  2) son frequentes en controles "
     ]
    },
    {
     "cell_type": "code",
     "collapsed": false,
     "input": [
      "vc.head(10)"
     ],
     "language": "python",
     "metadata": {},
     "outputs": [
      {
       "metadata": {},
       "output_type": "pyout",
       "prompt_number": 109,
       "text": [
        ".                                               83763108\n",
        "Uncertain_significance                            130983\n",
        "Pathogenic                                         35441\n",
        "Likely_pathogenic                                  18383\n",
        "Conflicting_interpretations_of_pathogenicity       10913\n",
        "Likely_benign                                       9646\n",
        "Benign                                              6521\n",
        "not_provided                                        5999\n",
        "Benign/Likely_benign                                4391\n",
        "Pathogenic/Likely_pathogenic                        3047\n",
        "Name: clinvar_clnsig, dtype: int64"
       ]
      }
     ],
     "prompt_number": 109
    }
   ],
   "metadata": {}
  }
 ]
}